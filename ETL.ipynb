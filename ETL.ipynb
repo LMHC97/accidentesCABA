{
 "cells": [
  {
   "cell_type": "markdown",
   "metadata": {},
   "source": [
    "# Proceso de extracción, transformación y limpieza de los datasets 'homicidios' y 'víctimas'"
   ]
  },
  {
   "cell_type": "markdown",
   "metadata": {},
   "source": [
    "Para comenzar, se importan las librerias necesarias."
   ]
  },
  {
   "cell_type": "code",
   "execution_count": 2,
   "metadata": {},
   "outputs": [],
   "source": [
    "import pandas as pd \n",
    "import numpy as np \n",
    "import matplotlib.pyplot as plt \n",
    "import seaborn as sns\n",
    "import warnings\n",
    "warnings.filterwarnings('ignore')\n",
    "from datetime import datetime\n",
    "import re"
   ]
  },
  {
   "cell_type": "markdown",
   "metadata": {},
   "source": [
    "## Se trabaja inicialmente con el dataset 'homicidios'"
   ]
  },
  {
   "cell_type": "code",
   "execution_count": 5,
   "metadata": {},
   "outputs": [
    {
     "name": "stdout",
     "output_type": "stream",
     "text": [
      "            ID  N_VICTIMAS       FECHA  AAAA  MM  DD      HORA  HH  \\\n",
      "0    2016-0001           1    1/1/2016  2016   1   1   4:00:00   4   \n",
      "1    2016-0002           1    1/2/2016  2016   1   2   1:15:00   1   \n",
      "2    2016-0003           1    1/3/2016  2016   1   3   7:00:00   7   \n",
      "3    2016-0004           1   1/10/2016  2016   1  10   0:00:00   0   \n",
      "4    2016-0005           1   1/21/2016  2016   1  21   5:20:00   5   \n",
      "..         ...         ...         ...   ...  ..  ..       ...  ..   \n",
      "691  2021-0093           1  12/13/2021  2021  12  13  17:10:00  17   \n",
      "692  2021-0094           1  12/20/2021  2021  12  20   1:10:00   1   \n",
      "693  2021-0095           1  12/30/2021  2021  12  30   0:43:00   0   \n",
      "694  2021-0096           1  12/15/2021  2021  12  15  10:30:00  10   \n",
      "695  2021-0097           1  11/18/2021  2021  11  18   6:10:00   6   \n",
      "\n",
      "                               LUGAR_DEL_HECHO TIPO_DE_CALLE  ...  Altura  \\\n",
      "0    AV PIEDRA BUENA Y AV FERNANDEZ DE LA CRUZ       AVENIDA  ...     NaN   \n",
      "1            AV GRAL PAZ  Y AV DE LOS CORRALES      GRAL PAZ  ...     NaN   \n",
      "2                           AV ENTRE RIOS 2034       AVENIDA  ...  2034.0   \n",
      "3        AV LARRAZABAL Y GRAL VILLEGAS CONRADO       AVENIDA  ...     NaN   \n",
      "4    AV SAN JUAN Y PRESIDENTE LUIS SAENZ PEÑA        AVENIDA  ...     NaN   \n",
      "..                                         ...           ...  ...     ...   \n",
      "691                          AV. RIESTRA Y MOM       AVENIDA  ...     NaN   \n",
      "692                    AU DELLEPIANE Y LACARRA     AUTOPISTA  ...     NaN   \n",
      "693                        AV. GAONA Y TERRADA       AVENIDA  ...     NaN   \n",
      "694                         AV. EVA PERON 4071       AVENIDA  ...  4071.0   \n",
      "695                    PADRE CARLOS MUJICA 709         CALLE  ...   709.0   \n",
      "\n",
      "                                   Cruce  \\\n",
      "0    FERNANDEZ DE LA CRUZ, F., GRAL. AV.   \n",
      "1                    DE LOS CORRALES AV.   \n",
      "2                                    NaN   \n",
      "3               VILLEGAS, CONRADO, GRAL.   \n",
      "4                SAENZ PE?A, LUIS, PRES.   \n",
      "..                                   ...   \n",
      "691                                  MOM   \n",
      "692                          LACARRA AV.   \n",
      "693                              TERRADA   \n",
      "694                                  NaN   \n",
      "695                                  NaN   \n",
      "\n",
      "                                 Dirección Normalizada COMUNA  \\\n",
      "0    PIEDRA BUENA AV. y FERNANDEZ DE LA CRUZ, F., G...      8   \n",
      "1                 PAZ, GRAL. AV. y DE LOS CORRALES AV.      9   \n",
      "2                                  ENTRE RIOS AV. 2034      1   \n",
      "3            LARRAZABAL AV. y VILLEGAS, CONRADO, GRAL.      8   \n",
      "4              SAN JUAN AV. y SAENZ PEÃ‘A, LUIS, PRES.      1   \n",
      "..                                                 ...    ...   \n",
      "691                                  RIESTRA AV. y MOM      7   \n",
      "692         DELLEPIANE, LUIS, TTE. GRAL. y LACARRA AV.      9   \n",
      "693                                GAONA AV. y TERRADA     11   \n",
      "694                                PERON, EVA AV. 4071      9   \n",
      "695                            PADRE CARLOS MUGICA 709      1   \n",
      "\n",
      "                                   XY (CABA)         pos x         pos y  \\\n",
      "0      Point (98896.78238426 93532.43437792)  -58.47533969  -34.68757022   \n",
      "1      Point (95832.05571093 95505.41641999)  -58.50877521  -34.66977709   \n",
      "2     Point (106684.29090040 99706.57687843)  -58.39040293  -34.63189362   \n",
      "3      Point (99840.65224780 94269.16534422)  -58.46503904  -34.68092974   \n",
      "4    Point (106980.32827929 100752.16915795)  -58.38718297  -34.62246630   \n",
      "..                                       ...           ...           ...   \n",
      "691   Point (102728.60090138 98186.24929177)  -58.43353773  -34.64561636   \n",
      "692    Point (99624.29795829 97569.69801131)  -58.46739825  -34.65117757   \n",
      "693   Point (99116.45492358 101045.23284826)  -58.47293407  -34.61984745   \n",
      "694    Point (99324.54463985 97676.26932409)  -58.47066794  -34.65021673   \n",
      "695  Point (107664.16647795 104708.63962087)  -58.37976155  -34.58679619   \n",
      "\n",
      "      PARTICIPANTES    VICTIMA    ACUSADO  \n",
      "0         MOTO-AUTO       MOTO       AUTO  \n",
      "1    AUTO-PASAJEROS       AUTO  PASAJEROS  \n",
      "2         MOTO-AUTO       MOTO       AUTO  \n",
      "3           MOTO-SD       MOTO         SD  \n",
      "4    MOTO-PASAJEROS       MOTO  PASAJEROS  \n",
      "..              ...        ...        ...  \n",
      "691       MOTO-AUTO       MOTO       AUTO  \n",
      "692       MOTO-AUTO       MOTO       AUTO  \n",
      "693     MOTO-CARGAS       MOTO     CARGAS  \n",
      "694     AUTO-CARGAS       AUTO     CARGAS  \n",
      "695  BICICLETA-AUTO  BICICLETA       AUTO  \n",
      "\n",
      "[696 rows x 21 columns]\n"
     ]
    }
   ],
   "source": [
    "homicidios='homicidios.xlsx - HECHOS.csv'\n",
    "df_homicidios=pd.read_csv(homicidios, delimiter=',', encoding='UTF-8')\n",
    "print(df_homicidios)"
   ]
  },
  {
   "cell_type": "code",
   "execution_count": 45,
   "metadata": {},
   "outputs": [
    {
     "data": {
      "text/html": [
       "<div>\n",
       "<style scoped>\n",
       "    .dataframe tbody tr th:only-of-type {\n",
       "        vertical-align: middle;\n",
       "    }\n",
       "\n",
       "    .dataframe tbody tr th {\n",
       "        vertical-align: top;\n",
       "    }\n",
       "\n",
       "    .dataframe thead th {\n",
       "        text-align: right;\n",
       "    }\n",
       "</style>\n",
       "<table border=\"1\" class=\"dataframe\">\n",
       "  <thead>\n",
       "    <tr style=\"text-align: right;\">\n",
       "      <th></th>\n",
       "      <th>ID</th>\n",
       "      <th>N_VICTIMAS</th>\n",
       "      <th>FECHA</th>\n",
       "      <th>AAAA</th>\n",
       "      <th>MM</th>\n",
       "      <th>DD</th>\n",
       "      <th>HORA</th>\n",
       "      <th>HH</th>\n",
       "      <th>LUGAR_DEL_HECHO</th>\n",
       "      <th>TIPO_DE_CALLE</th>\n",
       "      <th>...</th>\n",
       "      <th>Altura</th>\n",
       "      <th>Cruce</th>\n",
       "      <th>Dirección Normalizada</th>\n",
       "      <th>COMUNA</th>\n",
       "      <th>XY (CABA)</th>\n",
       "      <th>pos x</th>\n",
       "      <th>pos y</th>\n",
       "      <th>PARTICIPANTES</th>\n",
       "      <th>VICTIMA</th>\n",
       "      <th>ACUSADO</th>\n",
       "    </tr>\n",
       "  </thead>\n",
       "  <tbody>\n",
       "    <tr>\n",
       "      <th>0</th>\n",
       "      <td>2016-0001</td>\n",
       "      <td>1</td>\n",
       "      <td>1/1/2016</td>\n",
       "      <td>2016</td>\n",
       "      <td>1</td>\n",
       "      <td>1</td>\n",
       "      <td>4:00:00</td>\n",
       "      <td>4</td>\n",
       "      <td>AV PIEDRA BUENA Y AV FERNANDEZ DE LA CRUZ</td>\n",
       "      <td>AVENIDA</td>\n",
       "      <td>...</td>\n",
       "      <td>NaN</td>\n",
       "      <td>FERNANDEZ DE LA CRUZ, F., GRAL. AV.</td>\n",
       "      <td>PIEDRA BUENA AV. y FERNANDEZ DE LA CRUZ, F., G...</td>\n",
       "      <td>8</td>\n",
       "      <td>Point (98896.78238426 93532.43437792)</td>\n",
       "      <td>-58.47533969</td>\n",
       "      <td>-34.68757022</td>\n",
       "      <td>MOTO-AUTO</td>\n",
       "      <td>MOTO</td>\n",
       "      <td>AUTO</td>\n",
       "    </tr>\n",
       "    <tr>\n",
       "      <th>1</th>\n",
       "      <td>2016-0002</td>\n",
       "      <td>1</td>\n",
       "      <td>1/2/2016</td>\n",
       "      <td>2016</td>\n",
       "      <td>1</td>\n",
       "      <td>2</td>\n",
       "      <td>1:15:00</td>\n",
       "      <td>1</td>\n",
       "      <td>AV GRAL PAZ  Y AV DE LOS CORRALES</td>\n",
       "      <td>GRAL PAZ</td>\n",
       "      <td>...</td>\n",
       "      <td>NaN</td>\n",
       "      <td>DE LOS CORRALES AV.</td>\n",
       "      <td>PAZ, GRAL. AV. y DE LOS CORRALES AV.</td>\n",
       "      <td>9</td>\n",
       "      <td>Point (95832.05571093 95505.41641999)</td>\n",
       "      <td>-58.50877521</td>\n",
       "      <td>-34.66977709</td>\n",
       "      <td>AUTO-PASAJEROS</td>\n",
       "      <td>AUTO</td>\n",
       "      <td>PASAJEROS</td>\n",
       "    </tr>\n",
       "    <tr>\n",
       "      <th>2</th>\n",
       "      <td>2016-0003</td>\n",
       "      <td>1</td>\n",
       "      <td>1/3/2016</td>\n",
       "      <td>2016</td>\n",
       "      <td>1</td>\n",
       "      <td>3</td>\n",
       "      <td>7:00:00</td>\n",
       "      <td>7</td>\n",
       "      <td>AV ENTRE RIOS 2034</td>\n",
       "      <td>AVENIDA</td>\n",
       "      <td>...</td>\n",
       "      <td>2034.0</td>\n",
       "      <td>NaN</td>\n",
       "      <td>ENTRE RIOS AV. 2034</td>\n",
       "      <td>1</td>\n",
       "      <td>Point (106684.29090040 99706.57687843)</td>\n",
       "      <td>-58.39040293</td>\n",
       "      <td>-34.63189362</td>\n",
       "      <td>MOTO-AUTO</td>\n",
       "      <td>MOTO</td>\n",
       "      <td>AUTO</td>\n",
       "    </tr>\n",
       "    <tr>\n",
       "      <th>3</th>\n",
       "      <td>2016-0004</td>\n",
       "      <td>1</td>\n",
       "      <td>1/10/2016</td>\n",
       "      <td>2016</td>\n",
       "      <td>1</td>\n",
       "      <td>10</td>\n",
       "      <td>0:00:00</td>\n",
       "      <td>0</td>\n",
       "      <td>AV LARRAZABAL Y GRAL VILLEGAS CONRADO</td>\n",
       "      <td>AVENIDA</td>\n",
       "      <td>...</td>\n",
       "      <td>NaN</td>\n",
       "      <td>VILLEGAS, CONRADO, GRAL.</td>\n",
       "      <td>LARRAZABAL AV. y VILLEGAS, CONRADO, GRAL.</td>\n",
       "      <td>8</td>\n",
       "      <td>Point (99840.65224780 94269.16534422)</td>\n",
       "      <td>-58.46503904</td>\n",
       "      <td>-34.68092974</td>\n",
       "      <td>MOTO-SD</td>\n",
       "      <td>MOTO</td>\n",
       "      <td>SD</td>\n",
       "    </tr>\n",
       "    <tr>\n",
       "      <th>4</th>\n",
       "      <td>2016-0005</td>\n",
       "      <td>1</td>\n",
       "      <td>1/21/2016</td>\n",
       "      <td>2016</td>\n",
       "      <td>1</td>\n",
       "      <td>21</td>\n",
       "      <td>5:20:00</td>\n",
       "      <td>5</td>\n",
       "      <td>AV SAN JUAN Y PRESIDENTE LUIS SAENZ PEÑA</td>\n",
       "      <td>AVENIDA</td>\n",
       "      <td>...</td>\n",
       "      <td>NaN</td>\n",
       "      <td>SAENZ PE?A, LUIS, PRES.</td>\n",
       "      <td>SAN JUAN AV. y SAENZ PEÃ‘A, LUIS, PRES.</td>\n",
       "      <td>1</td>\n",
       "      <td>Point (106980.32827929 100752.16915795)</td>\n",
       "      <td>-58.38718297</td>\n",
       "      <td>-34.62246630</td>\n",
       "      <td>MOTO-PASAJEROS</td>\n",
       "      <td>MOTO</td>\n",
       "      <td>PASAJEROS</td>\n",
       "    </tr>\n",
       "    <tr>\n",
       "      <th>5</th>\n",
       "      <td>2016-0008</td>\n",
       "      <td>1</td>\n",
       "      <td>1/24/2016</td>\n",
       "      <td>2016</td>\n",
       "      <td>1</td>\n",
       "      <td>24</td>\n",
       "      <td>18:30:00</td>\n",
       "      <td>18</td>\n",
       "      <td>AV 27 DE FEBRERO Y AV ESCALADA</td>\n",
       "      <td>AVENIDA</td>\n",
       "      <td>...</td>\n",
       "      <td>NaN</td>\n",
       "      <td>ESCALADA AV.</td>\n",
       "      <td>27 DE FEBRERO AV. y ESCALADA AV.</td>\n",
       "      <td>8</td>\n",
       "      <td>Point (101721.59002217 93844.25656649)</td>\n",
       "      <td>-58.44451316</td>\n",
       "      <td>-34.68475866</td>\n",
       "      <td>MOTO-OBJETO FIJO</td>\n",
       "      <td>MOTO</td>\n",
       "      <td>OBJETO FIJO</td>\n",
       "    </tr>\n",
       "    <tr>\n",
       "      <th>6</th>\n",
       "      <td>2016-0009</td>\n",
       "      <td>1</td>\n",
       "      <td>1/24/2016</td>\n",
       "      <td>2016</td>\n",
       "      <td>1</td>\n",
       "      <td>24</td>\n",
       "      <td>19:10:00</td>\n",
       "      <td>19</td>\n",
       "      <td>NOGOYA Y JOAQUIN V. GONZALES</td>\n",
       "      <td>CALLE</td>\n",
       "      <td>...</td>\n",
       "      <td>NaN</td>\n",
       "      <td>GONZALEZ, JOAQUIN V.</td>\n",
       "      <td>NOGOYA y GONZALEZ, JOAQUIN V.</td>\n",
       "      <td>11</td>\n",
       "      <td>Point (96545.87592078 102330.67262199)</td>\n",
       "      <td>-58.50095869</td>\n",
       "      <td>-34.60825440</td>\n",
       "      <td>MOTO-AUTO</td>\n",
       "      <td>MOTO</td>\n",
       "      <td>AUTO</td>\n",
       "    </tr>\n",
       "    <tr>\n",
       "      <th>7</th>\n",
       "      <td>2016-0010</td>\n",
       "      <td>1</td>\n",
       "      <td>1/29/2016</td>\n",
       "      <td>2016</td>\n",
       "      <td>1</td>\n",
       "      <td>29</td>\n",
       "      <td>15:20:00</td>\n",
       "      <td>15</td>\n",
       "      <td>AV GENERAL PAZ Y AV DE LOS CORRALES</td>\n",
       "      <td>GRAL PAZ</td>\n",
       "      <td>...</td>\n",
       "      <td>NaN</td>\n",
       "      <td>DE LOS CORRALES AV.</td>\n",
       "      <td>PAZ, GRAL. AV. y DE LOS CORRALES AV.</td>\n",
       "      <td>9</td>\n",
       "      <td>Point (95832.05571093 95505.41641999)</td>\n",
       "      <td>-58.50877521</td>\n",
       "      <td>-34.66977709</td>\n",
       "      <td>MOTO-AUTO</td>\n",
       "      <td>MOTO</td>\n",
       "      <td>AUTO</td>\n",
       "    </tr>\n",
       "    <tr>\n",
       "      <th>8</th>\n",
       "      <td>2016-0012</td>\n",
       "      <td>1</td>\n",
       "      <td>2/8/2016</td>\n",
       "      <td>2016</td>\n",
       "      <td>2</td>\n",
       "      <td>8</td>\n",
       "      <td>1:20:00</td>\n",
       "      <td>1</td>\n",
       "      <td>AV BELGRANO Y BERNARDO DE IRIGOYEN</td>\n",
       "      <td>AVENIDA</td>\n",
       "      <td>...</td>\n",
       "      <td>NaN</td>\n",
       "      <td>IRIGOYEN, BERNARDO DE</td>\n",
       "      <td>BELGRANO AV. e IRIGOYEN, BERNARDO DE</td>\n",
       "      <td>1</td>\n",
       "      <td>Point (107595.35084333 101797.50052813)</td>\n",
       "      <td>-58.38048577</td>\n",
       "      <td>-34.61303893</td>\n",
       "      <td>MOTO-CARGAS</td>\n",
       "      <td>MOTO</td>\n",
       "      <td>CARGAS</td>\n",
       "    </tr>\n",
       "    <tr>\n",
       "      <th>9</th>\n",
       "      <td>2016-0013</td>\n",
       "      <td>1</td>\n",
       "      <td>2/10/2016</td>\n",
       "      <td>2016</td>\n",
       "      <td>2</td>\n",
       "      <td>10</td>\n",
       "      <td>11:30:00</td>\n",
       "      <td>11</td>\n",
       "      <td>AV ENTRE RIOS 1366</td>\n",
       "      <td>AVENIDA</td>\n",
       "      <td>...</td>\n",
       "      <td>1366.0</td>\n",
       "      <td>NaN</td>\n",
       "      <td>ENTRE RIOS AV. 1366</td>\n",
       "      <td>1</td>\n",
       "      <td>Point (106616.41069662 100496.44662323)</td>\n",
       "      <td>-58.39114932</td>\n",
       "      <td>-34.62477387</td>\n",
       "      <td>PEATON-AUTO</td>\n",
       "      <td>PEATON</td>\n",
       "      <td>AUTO</td>\n",
       "    </tr>\n",
       "    <tr>\n",
       "      <th>10</th>\n",
       "      <td>2016-0015</td>\n",
       "      <td>1</td>\n",
       "      <td>2/14/2016</td>\n",
       "      <td>2016</td>\n",
       "      <td>2</td>\n",
       "      <td>14</td>\n",
       "      <td>5:14:00</td>\n",
       "      <td>5</td>\n",
       "      <td>AV SCALABRINI ORTIZ Y VERA</td>\n",
       "      <td>AVENIDA</td>\n",
       "      <td>...</td>\n",
       "      <td>NaN</td>\n",
       "      <td>VERA</td>\n",
       "      <td>SCALABRINI ORTIZ, RAUL AV. y VERA</td>\n",
       "      <td>15</td>\n",
       "      <td>Point (102357.43746828 103343.52002839)</td>\n",
       "      <td>-58.43760020</td>\n",
       "      <td>-34.59912758</td>\n",
       "      <td>PEATON-AUTO</td>\n",
       "      <td>PEATON</td>\n",
       "      <td>AUTO</td>\n",
       "    </tr>\n",
       "    <tr>\n",
       "      <th>11</th>\n",
       "      <td>2016-0016</td>\n",
       "      <td>1</td>\n",
       "      <td>2/14/2016</td>\n",
       "      <td>2016</td>\n",
       "      <td>2</td>\n",
       "      <td>14</td>\n",
       "      <td>22:00:00</td>\n",
       "      <td>22</td>\n",
       "      <td>AV REGIMIENTO DE PATRICIOS Y QUINQUELA MARTIN ...</td>\n",
       "      <td>AVENIDA</td>\n",
       "      <td>...</td>\n",
       "      <td>NaN</td>\n",
       "      <td>QUINQUELA MARTIN, BENITO</td>\n",
       "      <td>REGIMIENTO DE PATRICIOS AV. y QUINQUELA MARTIN...</td>\n",
       "      <td>4</td>\n",
       "      <td>Point (108661.59115206 98481.75445555)</td>\n",
       "      <td>-58.36882665</td>\n",
       "      <td>-34.64291993</td>\n",
       "      <td>MOTO-AUTO</td>\n",
       "      <td>MOTO</td>\n",
       "      <td>AUTO</td>\n",
       "    </tr>\n",
       "    <tr>\n",
       "      <th>12</th>\n",
       "      <td>2016-0017</td>\n",
       "      <td>1</td>\n",
       "      <td>2/15/2016</td>\n",
       "      <td>2016</td>\n",
       "      <td>2</td>\n",
       "      <td>15</td>\n",
       "      <td>16:54:00</td>\n",
       "      <td>16</td>\n",
       "      <td>MARIANO ACOSTA Y ANA MARIA JANER</td>\n",
       "      <td>AVENIDA</td>\n",
       "      <td>...</td>\n",
       "      <td>NaN</td>\n",
       "      <td>JANER, ANA MARIA</td>\n",
       "      <td>ACOSTA, MARIANO y JANER, ANA MARIA</td>\n",
       "      <td>8</td>\n",
       "      <td>Point (101228.61094416 96623.72136186)</td>\n",
       "      <td>-58.44989671</td>\n",
       "      <td>-34.65970435</td>\n",
       "      <td>PEATON-MOTO</td>\n",
       "      <td>PEATON</td>\n",
       "      <td>MOTO</td>\n",
       "    </tr>\n",
       "    <tr>\n",
       "      <th>13</th>\n",
       "      <td>2016-0019</td>\n",
       "      <td>1</td>\n",
       "      <td>2/17/2016</td>\n",
       "      <td>2016</td>\n",
       "      <td>2</td>\n",
       "      <td>17</td>\n",
       "      <td>9:30:00</td>\n",
       "      <td>9</td>\n",
       "      <td>LISANDRO DE LA TORRE Y SEVERO GARCIA GRANDE DE...</td>\n",
       "      <td>CALLE</td>\n",
       "      <td>...</td>\n",
       "      <td>NaN</td>\n",
       "      <td>GARCIA GRANDE DE ZEQUEIRA, SEVERO</td>\n",
       "      <td>DE LA TORRE, LISANDRO y GARCIA GRANDE DE ZEQUE...</td>\n",
       "      <td>9</td>\n",
       "      <td>Point (95727.37083199 97179.35560349)</td>\n",
       "      <td>-58.50990884</td>\n",
       "      <td>-34.65468721</td>\n",
       "      <td>PEATON-PASAJEROS</td>\n",
       "      <td>PEATON</td>\n",
       "      <td>PASAJEROS</td>\n",
       "    </tr>\n",
       "    <tr>\n",
       "      <th>14</th>\n",
       "      <td>2016-0020</td>\n",
       "      <td>1</td>\n",
       "      <td>2/17/2016</td>\n",
       "      <td>2016</td>\n",
       "      <td>2</td>\n",
       "      <td>17</td>\n",
       "      <td>16:00:00</td>\n",
       "      <td>16</td>\n",
       "      <td>SUIPACHA 156</td>\n",
       "      <td>CALLE</td>\n",
       "      <td>...</td>\n",
       "      <td>156.0</td>\n",
       "      <td>NaN</td>\n",
       "      <td>SUIPACHA 156</td>\n",
       "      <td>1</td>\n",
       "      <td>Point (107684.31807562 102519.17333314)</td>\n",
       "      <td>-58.37952223</td>\n",
       "      <td>-34.60653282</td>\n",
       "      <td>PEATON-AUTO</td>\n",
       "      <td>PEATON</td>\n",
       "      <td>AUTO</td>\n",
       "    </tr>\n",
       "  </tbody>\n",
       "</table>\n",
       "<p>15 rows × 21 columns</p>\n",
       "</div>"
      ],
      "text/plain": [
       "           ID  N_VICTIMAS      FECHA  AAAA  MM  DD      HORA  HH  \\\n",
       "0   2016-0001           1   1/1/2016  2016   1   1   4:00:00   4   \n",
       "1   2016-0002           1   1/2/2016  2016   1   2   1:15:00   1   \n",
       "2   2016-0003           1   1/3/2016  2016   1   3   7:00:00   7   \n",
       "3   2016-0004           1  1/10/2016  2016   1  10   0:00:00   0   \n",
       "4   2016-0005           1  1/21/2016  2016   1  21   5:20:00   5   \n",
       "5   2016-0008           1  1/24/2016  2016   1  24  18:30:00  18   \n",
       "6   2016-0009           1  1/24/2016  2016   1  24  19:10:00  19   \n",
       "7   2016-0010           1  1/29/2016  2016   1  29  15:20:00  15   \n",
       "8   2016-0012           1   2/8/2016  2016   2   8   1:20:00   1   \n",
       "9   2016-0013           1  2/10/2016  2016   2  10  11:30:00  11   \n",
       "10  2016-0015           1  2/14/2016  2016   2  14   5:14:00   5   \n",
       "11  2016-0016           1  2/14/2016  2016   2  14  22:00:00  22   \n",
       "12  2016-0017           1  2/15/2016  2016   2  15  16:54:00  16   \n",
       "13  2016-0019           1  2/17/2016  2016   2  17   9:30:00   9   \n",
       "14  2016-0020           1  2/17/2016  2016   2  17  16:00:00  16   \n",
       "\n",
       "                                      LUGAR_DEL_HECHO TIPO_DE_CALLE  ...  \\\n",
       "0           AV PIEDRA BUENA Y AV FERNANDEZ DE LA CRUZ       AVENIDA  ...   \n",
       "1                   AV GRAL PAZ  Y AV DE LOS CORRALES      GRAL PAZ  ...   \n",
       "2                                  AV ENTRE RIOS 2034       AVENIDA  ...   \n",
       "3               AV LARRAZABAL Y GRAL VILLEGAS CONRADO       AVENIDA  ...   \n",
       "4           AV SAN JUAN Y PRESIDENTE LUIS SAENZ PEÑA        AVENIDA  ...   \n",
       "5                      AV 27 DE FEBRERO Y AV ESCALADA       AVENIDA  ...   \n",
       "6                        NOGOYA Y JOAQUIN V. GONZALES         CALLE  ...   \n",
       "7                 AV GENERAL PAZ Y AV DE LOS CORRALES      GRAL PAZ  ...   \n",
       "8                  AV BELGRANO Y BERNARDO DE IRIGOYEN       AVENIDA  ...   \n",
       "9                                  AV ENTRE RIOS 1366       AVENIDA  ...   \n",
       "10                         AV SCALABRINI ORTIZ Y VERA       AVENIDA  ...   \n",
       "11  AV REGIMIENTO DE PATRICIOS Y QUINQUELA MARTIN ...       AVENIDA  ...   \n",
       "12                   MARIANO ACOSTA Y ANA MARIA JANER       AVENIDA  ...   \n",
       "13  LISANDRO DE LA TORRE Y SEVERO GARCIA GRANDE DE...         CALLE  ...   \n",
       "14                                       SUIPACHA 156         CALLE  ...   \n",
       "\n",
       "    Altura                                Cruce  \\\n",
       "0      NaN  FERNANDEZ DE LA CRUZ, F., GRAL. AV.   \n",
       "1      NaN                  DE LOS CORRALES AV.   \n",
       "2   2034.0                                  NaN   \n",
       "3      NaN             VILLEGAS, CONRADO, GRAL.   \n",
       "4      NaN              SAENZ PE?A, LUIS, PRES.   \n",
       "5      NaN                         ESCALADA AV.   \n",
       "6      NaN                 GONZALEZ, JOAQUIN V.   \n",
       "7      NaN                  DE LOS CORRALES AV.   \n",
       "8      NaN                IRIGOYEN, BERNARDO DE   \n",
       "9   1366.0                                  NaN   \n",
       "10     NaN                                 VERA   \n",
       "11     NaN             QUINQUELA MARTIN, BENITO   \n",
       "12     NaN                     JANER, ANA MARIA   \n",
       "13     NaN    GARCIA GRANDE DE ZEQUEIRA, SEVERO   \n",
       "14   156.0                                  NaN   \n",
       "\n",
       "                                Dirección Normalizada COMUNA  \\\n",
       "0   PIEDRA BUENA AV. y FERNANDEZ DE LA CRUZ, F., G...      8   \n",
       "1                PAZ, GRAL. AV. y DE LOS CORRALES AV.      9   \n",
       "2                                 ENTRE RIOS AV. 2034      1   \n",
       "3           LARRAZABAL AV. y VILLEGAS, CONRADO, GRAL.      8   \n",
       "4             SAN JUAN AV. y SAENZ PEÃ‘A, LUIS, PRES.      1   \n",
       "5                    27 DE FEBRERO AV. y ESCALADA AV.      8   \n",
       "6                       NOGOYA y GONZALEZ, JOAQUIN V.     11   \n",
       "7                PAZ, GRAL. AV. y DE LOS CORRALES AV.      9   \n",
       "8                BELGRANO AV. e IRIGOYEN, BERNARDO DE      1   \n",
       "9                                 ENTRE RIOS AV. 1366      1   \n",
       "10                  SCALABRINI ORTIZ, RAUL AV. y VERA     15   \n",
       "11  REGIMIENTO DE PATRICIOS AV. y QUINQUELA MARTIN...      4   \n",
       "12                 ACOSTA, MARIANO y JANER, ANA MARIA      8   \n",
       "13  DE LA TORRE, LISANDRO y GARCIA GRANDE DE ZEQUE...      9   \n",
       "14                                       SUIPACHA 156      1   \n",
       "\n",
       "                                  XY (CABA)         pos x         pos y  \\\n",
       "0     Point (98896.78238426 93532.43437792)  -58.47533969  -34.68757022   \n",
       "1     Point (95832.05571093 95505.41641999)  -58.50877521  -34.66977709   \n",
       "2    Point (106684.29090040 99706.57687843)  -58.39040293  -34.63189362   \n",
       "3     Point (99840.65224780 94269.16534422)  -58.46503904  -34.68092974   \n",
       "4   Point (106980.32827929 100752.16915795)  -58.38718297  -34.62246630   \n",
       "5    Point (101721.59002217 93844.25656649)  -58.44451316  -34.68475866   \n",
       "6    Point (96545.87592078 102330.67262199)  -58.50095869  -34.60825440   \n",
       "7     Point (95832.05571093 95505.41641999)  -58.50877521  -34.66977709   \n",
       "8   Point (107595.35084333 101797.50052813)  -58.38048577  -34.61303893   \n",
       "9   Point (106616.41069662 100496.44662323)  -58.39114932  -34.62477387   \n",
       "10  Point (102357.43746828 103343.52002839)  -58.43760020  -34.59912758   \n",
       "11   Point (108661.59115206 98481.75445555)  -58.36882665  -34.64291993   \n",
       "12   Point (101228.61094416 96623.72136186)  -58.44989671  -34.65970435   \n",
       "13    Point (95727.37083199 97179.35560349)  -58.50990884  -34.65468721   \n",
       "14  Point (107684.31807562 102519.17333314)  -58.37952223  -34.60653282   \n",
       "\n",
       "       PARTICIPANTES VICTIMA      ACUSADO  \n",
       "0          MOTO-AUTO    MOTO         AUTO  \n",
       "1     AUTO-PASAJEROS    AUTO    PASAJEROS  \n",
       "2          MOTO-AUTO    MOTO         AUTO  \n",
       "3            MOTO-SD    MOTO           SD  \n",
       "4     MOTO-PASAJEROS    MOTO    PASAJEROS  \n",
       "5   MOTO-OBJETO FIJO    MOTO  OBJETO FIJO  \n",
       "6          MOTO-AUTO    MOTO         AUTO  \n",
       "7          MOTO-AUTO    MOTO         AUTO  \n",
       "8        MOTO-CARGAS    MOTO       CARGAS  \n",
       "9        PEATON-AUTO  PEATON         AUTO  \n",
       "10       PEATON-AUTO  PEATON         AUTO  \n",
       "11         MOTO-AUTO    MOTO         AUTO  \n",
       "12       PEATON-MOTO  PEATON         MOTO  \n",
       "13  PEATON-PASAJEROS  PEATON    PASAJEROS  \n",
       "14       PEATON-AUTO  PEATON         AUTO  \n",
       "\n",
       "[15 rows x 21 columns]"
      ]
     },
     "execution_count": 45,
     "metadata": {},
     "output_type": "execute_result"
    }
   ],
   "source": [
    "df_homicidios.head(15)"
   ]
  },
  {
   "cell_type": "markdown",
   "metadata": {},
   "source": [
    "### Proceso de toma de decisiones sobre las columnas a emplear."
   ]
  },
  {
   "cell_type": "markdown",
   "metadata": {},
   "source": [
    "Al visualizar los datos, identifico ciertas columnas cuyos datos resultan redundantes. Este es el caso de las columnas 'hora' (está incluida en HH), 'fecha'(está desglosada en 'AAAA', 'MM', 'DD' y 'HH'), y 'lugar del hecho', 'altura', 'cruce', 'XY', 'posx' y 'posy', ya que están incluidos en dirección normalizada.     CORREGIR"
   ]
  },
  {
   "cell_type": "markdown",
   "metadata": {},
   "source": [
    "Se guarda el dataframe con las columnas actualizadas y se visualiza."
   ]
  },
  {
   "cell_type": "code",
   "execution_count": 18,
   "metadata": {},
   "outputs": [
    {
     "name": "stdout",
     "output_type": "stream",
     "text": [
      "            ID  N_VICTIMAS       FECHA  AAAA  MM  DD  HH  \\\n",
      "0    2016-0001           1    1/1/2016  2016   1   1   4   \n",
      "1    2016-0002           1    1/2/2016  2016   1   2   1   \n",
      "2    2016-0003           1    1/3/2016  2016   1   3   7   \n",
      "3    2016-0004           1   1/10/2016  2016   1  10   0   \n",
      "4    2016-0005           1   1/21/2016  2016   1  21   5   \n",
      "..         ...         ...         ...   ...  ..  ..  ..   \n",
      "691  2021-0093           1  12/13/2021  2021  12  13  17   \n",
      "692  2021-0094           1  12/20/2021  2021  12  20   1   \n",
      "693  2021-0095           1  12/30/2021  2021  12  30   0   \n",
      "694  2021-0096           1  12/15/2021  2021  12  15  10   \n",
      "695  2021-0097           1  11/18/2021  2021  11  18   6   \n",
      "\n",
      "                               LUGAR_DEL_HECHO TIPO_DE_CALLE  COMUNA  \\\n",
      "0    AV PIEDRA BUENA Y AV FERNANDEZ DE LA CRUZ       AVENIDA       8   \n",
      "1            AV GRAL PAZ  Y AV DE LOS CORRALES      GRAL PAZ       9   \n",
      "2                           AV ENTRE RIOS 2034       AVENIDA       1   \n",
      "3        AV LARRAZABAL Y GRAL VILLEGAS CONRADO       AVENIDA       8   \n",
      "4    AV SAN JUAN Y PRESIDENTE LUIS SAENZ PEÑA        AVENIDA       1   \n",
      "..                                         ...           ...     ...   \n",
      "691                          AV. RIESTRA Y MOM       AVENIDA       7   \n",
      "692                    AU DELLEPIANE Y LACARRA     AUTOPISTA       9   \n",
      "693                        AV. GAONA Y TERRADA       AVENIDA      11   \n",
      "694                         AV. EVA PERON 4071       AVENIDA       9   \n",
      "695                    PADRE CARLOS MUJICA 709         CALLE       1   \n",
      "\n",
      "      PARTICIPANTES    VICTIMA    ACUSADO  \n",
      "0         MOTO-AUTO       MOTO       AUTO  \n",
      "1    AUTO-PASAJEROS       AUTO  PASAJEROS  \n",
      "2         MOTO-AUTO       MOTO       AUTO  \n",
      "3           MOTO-SD       MOTO         SD  \n",
      "4    MOTO-PASAJEROS       MOTO  PASAJEROS  \n",
      "..              ...        ...        ...  \n",
      "691       MOTO-AUTO       MOTO       AUTO  \n",
      "692       MOTO-AUTO       MOTO       AUTO  \n",
      "693     MOTO-CARGAS       MOTO     CARGAS  \n",
      "694     AUTO-CARGAS       AUTO     CARGAS  \n",
      "695  BICICLETA-AUTO  BICICLETA       AUTO  \n",
      "\n",
      "[696 rows x 13 columns]\n"
     ]
    }
   ],
   "source": [
    "df_homicidios=df_homicidios[['ID','N_VICTIMAS','FECHA', 'AAAA', 'MM','DD','HH', 'LUGAR_DEL_HECHO', 'TIPO_DE_CALLE', 'COMUNA', 'PARTICIPANTES', 'VICTIMA', 'ACUSADO']]\n",
    "print(df_homicidios)"
   ]
  },
  {
   "cell_type": "code",
   "execution_count": 19,
   "metadata": {},
   "outputs": [
    {
     "data": {
      "text/html": [
       "<div>\n",
       "<style scoped>\n",
       "    .dataframe tbody tr th:only-of-type {\n",
       "        vertical-align: middle;\n",
       "    }\n",
       "\n",
       "    .dataframe tbody tr th {\n",
       "        vertical-align: top;\n",
       "    }\n",
       "\n",
       "    .dataframe thead th {\n",
       "        text-align: right;\n",
       "    }\n",
       "</style>\n",
       "<table border=\"1\" class=\"dataframe\">\n",
       "  <thead>\n",
       "    <tr style=\"text-align: right;\">\n",
       "      <th></th>\n",
       "      <th>ID</th>\n",
       "      <th>N_VICTIMAS</th>\n",
       "      <th>FECHA</th>\n",
       "      <th>AAAA</th>\n",
       "      <th>MM</th>\n",
       "      <th>DD</th>\n",
       "      <th>HH</th>\n",
       "      <th>LUGAR_DEL_HECHO</th>\n",
       "      <th>TIPO_DE_CALLE</th>\n",
       "      <th>COMUNA</th>\n",
       "      <th>PARTICIPANTES</th>\n",
       "      <th>VICTIMA</th>\n",
       "      <th>ACUSADO</th>\n",
       "    </tr>\n",
       "  </thead>\n",
       "  <tbody>\n",
       "    <tr>\n",
       "      <th>0</th>\n",
       "      <td>2016-0001</td>\n",
       "      <td>1</td>\n",
       "      <td>1/1/2016</td>\n",
       "      <td>2016</td>\n",
       "      <td>1</td>\n",
       "      <td>1</td>\n",
       "      <td>4</td>\n",
       "      <td>AV PIEDRA BUENA Y AV FERNANDEZ DE LA CRUZ</td>\n",
       "      <td>AVENIDA</td>\n",
       "      <td>8</td>\n",
       "      <td>MOTO-AUTO</td>\n",
       "      <td>MOTO</td>\n",
       "      <td>AUTO</td>\n",
       "    </tr>\n",
       "    <tr>\n",
       "      <th>1</th>\n",
       "      <td>2016-0002</td>\n",
       "      <td>1</td>\n",
       "      <td>1/2/2016</td>\n",
       "      <td>2016</td>\n",
       "      <td>1</td>\n",
       "      <td>2</td>\n",
       "      <td>1</td>\n",
       "      <td>AV GRAL PAZ  Y AV DE LOS CORRALES</td>\n",
       "      <td>GRAL PAZ</td>\n",
       "      <td>9</td>\n",
       "      <td>AUTO-PASAJEROS</td>\n",
       "      <td>AUTO</td>\n",
       "      <td>PASAJEROS</td>\n",
       "    </tr>\n",
       "    <tr>\n",
       "      <th>2</th>\n",
       "      <td>2016-0003</td>\n",
       "      <td>1</td>\n",
       "      <td>1/3/2016</td>\n",
       "      <td>2016</td>\n",
       "      <td>1</td>\n",
       "      <td>3</td>\n",
       "      <td>7</td>\n",
       "      <td>AV ENTRE RIOS 2034</td>\n",
       "      <td>AVENIDA</td>\n",
       "      <td>1</td>\n",
       "      <td>MOTO-AUTO</td>\n",
       "      <td>MOTO</td>\n",
       "      <td>AUTO</td>\n",
       "    </tr>\n",
       "    <tr>\n",
       "      <th>3</th>\n",
       "      <td>2016-0004</td>\n",
       "      <td>1</td>\n",
       "      <td>1/10/2016</td>\n",
       "      <td>2016</td>\n",
       "      <td>1</td>\n",
       "      <td>10</td>\n",
       "      <td>0</td>\n",
       "      <td>AV LARRAZABAL Y GRAL VILLEGAS CONRADO</td>\n",
       "      <td>AVENIDA</td>\n",
       "      <td>8</td>\n",
       "      <td>MOTO-SD</td>\n",
       "      <td>MOTO</td>\n",
       "      <td>SD</td>\n",
       "    </tr>\n",
       "    <tr>\n",
       "      <th>4</th>\n",
       "      <td>2016-0005</td>\n",
       "      <td>1</td>\n",
       "      <td>1/21/2016</td>\n",
       "      <td>2016</td>\n",
       "      <td>1</td>\n",
       "      <td>21</td>\n",
       "      <td>5</td>\n",
       "      <td>AV SAN JUAN Y PRESIDENTE LUIS SAENZ PEÑA</td>\n",
       "      <td>AVENIDA</td>\n",
       "      <td>1</td>\n",
       "      <td>MOTO-PASAJEROS</td>\n",
       "      <td>MOTO</td>\n",
       "      <td>PASAJEROS</td>\n",
       "    </tr>\n",
       "  </tbody>\n",
       "</table>\n",
       "</div>"
      ],
      "text/plain": [
       "          ID  N_VICTIMAS      FECHA  AAAA  MM  DD HH  \\\n",
       "0  2016-0001           1   1/1/2016  2016   1   1  4   \n",
       "1  2016-0002           1   1/2/2016  2016   1   2  1   \n",
       "2  2016-0003           1   1/3/2016  2016   1   3  7   \n",
       "3  2016-0004           1  1/10/2016  2016   1  10  0   \n",
       "4  2016-0005           1  1/21/2016  2016   1  21  5   \n",
       "\n",
       "                             LUGAR_DEL_HECHO TIPO_DE_CALLE  COMUNA  \\\n",
       "0  AV PIEDRA BUENA Y AV FERNANDEZ DE LA CRUZ       AVENIDA       8   \n",
       "1          AV GRAL PAZ  Y AV DE LOS CORRALES      GRAL PAZ       9   \n",
       "2                         AV ENTRE RIOS 2034       AVENIDA       1   \n",
       "3      AV LARRAZABAL Y GRAL VILLEGAS CONRADO       AVENIDA       8   \n",
       "4  AV SAN JUAN Y PRESIDENTE LUIS SAENZ PEÑA        AVENIDA       1   \n",
       "\n",
       "    PARTICIPANTES VICTIMA    ACUSADO  \n",
       "0       MOTO-AUTO    MOTO       AUTO  \n",
       "1  AUTO-PASAJEROS    AUTO  PASAJEROS  \n",
       "2       MOTO-AUTO    MOTO       AUTO  \n",
       "3         MOTO-SD    MOTO         SD  \n",
       "4  MOTO-PASAJEROS    MOTO  PASAJEROS  "
      ]
     },
     "execution_count": 19,
     "metadata": {},
     "output_type": "execute_result"
    }
   ],
   "source": [
    "df_homicidios.head()"
   ]
  },
  {
   "cell_type": "markdown",
   "metadata": {},
   "source": [
    "## Distribución de los datos."
   ]
  },
  {
   "cell_type": "markdown",
   "metadata": {},
   "source": [
    "### Observo la distribución de los datos para entender mejor el dataframe y verificar su calidad."
   ]
  },
  {
   "cell_type": "markdown",
   "metadata": {},
   "source": [
    "Primero, observo la longitud del dataframe"
   ]
  },
  {
   "cell_type": "code",
   "execution_count": 20,
   "metadata": {},
   "outputs": [
    {
     "data": {
      "text/plain": [
       "696"
      ]
     },
     "execution_count": 20,
     "metadata": {},
     "output_type": "execute_result"
    }
   ],
   "source": [
    "len(df_homicidios)"
   ]
  },
  {
   "cell_type": "markdown",
   "metadata": {},
   "source": [
    "Luego, veo la cantidad de valores nulos en el dataframe"
   ]
  },
  {
   "cell_type": "code",
   "execution_count": 21,
   "metadata": {},
   "outputs": [
    {
     "data": {
      "text/plain": [
       "ID                 0\n",
       "N_VICTIMAS         0\n",
       "FECHA              0\n",
       "AAAA               0\n",
       "MM                 0\n",
       "DD                 0\n",
       "HH                 0\n",
       "LUGAR_DEL_HECHO    0\n",
       "TIPO_DE_CALLE      0\n",
       "COMUNA             0\n",
       "PARTICIPANTES      0\n",
       "VICTIMA            0\n",
       "ACUSADO            0\n",
       "dtype: int64"
      ]
     },
     "execution_count": 21,
     "metadata": {},
     "output_type": "execute_result"
    }
   ],
   "source": [
    "df_homicidios.isna().sum()"
   ]
  },
  {
   "cell_type": "markdown",
   "metadata": {},
   "source": [
    "No existen valores nulos en el dataset."
   ]
  },
  {
   "cell_type": "markdown",
   "metadata": {},
   "source": [
    "Se verifica la información del dataset"
   ]
  },
  {
   "cell_type": "code",
   "execution_count": 22,
   "metadata": {},
   "outputs": [
    {
     "name": "stdout",
     "output_type": "stream",
     "text": [
      "<class 'pandas.core.frame.DataFrame'>\n",
      "RangeIndex: 696 entries, 0 to 695\n",
      "Data columns (total 13 columns):\n",
      " #   Column           Non-Null Count  Dtype \n",
      "---  ------           --------------  ----- \n",
      " 0   ID               696 non-null    object\n",
      " 1   N_VICTIMAS       696 non-null    int64 \n",
      " 2   FECHA            696 non-null    object\n",
      " 3   AAAA             696 non-null    int64 \n",
      " 4   MM               696 non-null    int64 \n",
      " 5   DD               696 non-null    int64 \n",
      " 6   HH               696 non-null    object\n",
      " 7   LUGAR_DEL_HECHO  696 non-null    object\n",
      " 8   TIPO_DE_CALLE    696 non-null    object\n",
      " 9   COMUNA           696 non-null    int64 \n",
      " 10  PARTICIPANTES    696 non-null    object\n",
      " 11  VICTIMA          696 non-null    object\n",
      " 12  ACUSADO          696 non-null    object\n",
      "dtypes: int64(5), object(8)\n",
      "memory usage: 70.8+ KB\n"
     ]
    }
   ],
   "source": [
    "df_homicidios.info()"
   ]
  },
  {
   "cell_type": "markdown",
   "metadata": {},
   "source": [
    "Se verifican los valores duplicados en el dataset."
   ]
  },
  {
   "cell_type": "code",
   "execution_count": 23,
   "metadata": {},
   "outputs": [
    {
     "data": {
      "text/plain": [
       "np.int64(0)"
      ]
     },
     "execution_count": 23,
     "metadata": {},
     "output_type": "execute_result"
    }
   ],
   "source": [
    "df_homicidios.duplicated(subset='ID').sum()"
   ]
  },
  {
   "cell_type": "markdown",
   "metadata": {},
   "source": [
    "No existen ID duplicados en el dataset."
   ]
  },
  {
   "cell_type": "markdown",
   "metadata": {},
   "source": [
    "Se identifican los tipos de datos y se hacen los casteos necesarios. Se modifican los datos de las columnas para permitir los casteos.\n",
    "ID: Object a int.\n",
    "Fecha: Object a datetime.\n",
    "Hora: Object a datetime."
   ]
  },
  {
   "cell_type": "code",
   "execution_count": 24,
   "metadata": {},
   "outputs": [],
   "source": [
    "df_homicidios['ID'] = df_homicidios['ID'].str.replace('-', '')"
   ]
  },
  {
   "cell_type": "code",
   "execution_count": 27,
   "metadata": {},
   "outputs": [],
   "source": [
    "df_homicidios['ID']=df_homicidios['ID'].astype(int)\n",
    "df_homicidios['FECHA'] = pd.to_datetime(df_homicidios['FECHA'], errors='coerce')\n",
    "df_homicidios['MM']=df_homicidios['MM'].astype(int)\n",
    "df_homicidios['DD']=df_homicidios['DD'].astype(int)"
   ]
  },
  {
   "cell_type": "code",
   "execution_count": 28,
   "metadata": {},
   "outputs": [
    {
     "name": "stdout",
     "output_type": "stream",
     "text": [
      "<class 'pandas.core.frame.DataFrame'>\n",
      "RangeIndex: 696 entries, 0 to 695\n",
      "Data columns (total 13 columns):\n",
      " #   Column           Non-Null Count  Dtype         \n",
      "---  ------           --------------  -----         \n",
      " 0   ID               696 non-null    int64         \n",
      " 1   N_VICTIMAS       696 non-null    int64         \n",
      " 2   FECHA            696 non-null    datetime64[ns]\n",
      " 3   AAAA             696 non-null    int64         \n",
      " 4   MM               696 non-null    int64         \n",
      " 5   DD               696 non-null    int64         \n",
      " 6   HH               696 non-null    object        \n",
      " 7   LUGAR_DEL_HECHO  696 non-null    object        \n",
      " 8   TIPO_DE_CALLE    696 non-null    object        \n",
      " 9   COMUNA           696 non-null    int64         \n",
      " 10  PARTICIPANTES    696 non-null    object        \n",
      " 11  VICTIMA          696 non-null    object        \n",
      " 12  ACUSADO          696 non-null    object        \n",
      "dtypes: datetime64[ns](1), int64(6), object(6)\n",
      "memory usage: 70.8+ KB\n"
     ]
    }
   ],
   "source": [
    "df_homicidios.info()"
   ]
  },
  {
   "cell_type": "code",
   "execution_count": 29,
   "metadata": {},
   "outputs": [],
   "source": [
    "df_homicidios.to_csv('homicidioslimpio.csv')"
   ]
  },
  {
   "cell_type": "markdown",
   "metadata": {},
   "source": [
    "## Ahora, se trabaja con el dataset 'victimas'"
   ]
  },
  {
   "cell_type": "code",
   "execution_count": 141,
   "metadata": {},
   "outputs": [
    {
     "name": "stdout",
     "output_type": "stream",
     "text": [
      "      ID_hecho       FECHA  AAAA  MM  DD                   ROL VICTIMA  \\\n",
      "0    2016-0001    1/1/2016  2016   1   1             CONDUCTOR    MOTO   \n",
      "1    2016-0002    1/2/2016  2016   1   2             CONDUCTOR    AUTO   \n",
      "2    2016-0003    1/3/2016  2016   1   3             CONDUCTOR    MOTO   \n",
      "3    2016-0004   1/10/2016  2016   1  10             CONDUCTOR    MOTO   \n",
      "4    2016-0005   1/21/2016  2016   1  21             CONDUCTOR    MOTO   \n",
      "..         ...         ...   ...  ..  ..                   ...     ...   \n",
      "712  2021-0092  12/12/2021  2021  12  12                PEATON  PEATON   \n",
      "713  2021-0093  12/13/2021  2021  12  13  PASAJERO_ACOMPAÑANTE    MOTO   \n",
      "714  2021-0094  12/20/2021  2021  12  20  PASAJERO_ACOMPAÑANTE    MOTO   \n",
      "715  2021-0095  12/30/2021  2021  12  30             CONDUCTOR    MOTO   \n",
      "716  2021-0096  12/15/2021  2021  12  15             CONDUCTOR    AUTO   \n",
      "\n",
      "          SEXO EDAD FECHA_FALLECIMIENTO  \n",
      "0    MASCULINO   19            1/1/2016  \n",
      "1    MASCULINO   70            1/2/2016  \n",
      "2    MASCULINO   30            1/3/2016  \n",
      "3    MASCULINO   18                  SD  \n",
      "4    MASCULINO   29            2/1/2016  \n",
      "..         ...  ...                 ...  \n",
      "712   FEMENINO   50          12/12/2021  \n",
      "713   FEMENINO   18          12/18/2021  \n",
      "714   FEMENINO   43          12/20/2021  \n",
      "715  MASCULINO   27            1/2/2022  \n",
      "716  MASCULINO   60          12/20/2021  \n",
      "\n",
      "[717 rows x 10 columns]\n"
     ]
    }
   ],
   "source": [
    "victimas='homicidios.xlsx - VICTIMAS.csv'\n",
    "df_victimas=pd.read_csv(victimas, delimiter=',', encoding='UTF-8')\n",
    "print(df_victimas)"
   ]
  },
  {
   "cell_type": "code",
   "execution_count": 142,
   "metadata": {},
   "outputs": [
    {
     "data": {
      "text/html": [
       "<div>\n",
       "<style scoped>\n",
       "    .dataframe tbody tr th:only-of-type {\n",
       "        vertical-align: middle;\n",
       "    }\n",
       "\n",
       "    .dataframe tbody tr th {\n",
       "        vertical-align: top;\n",
       "    }\n",
       "\n",
       "    .dataframe thead th {\n",
       "        text-align: right;\n",
       "    }\n",
       "</style>\n",
       "<table border=\"1\" class=\"dataframe\">\n",
       "  <thead>\n",
       "    <tr style=\"text-align: right;\">\n",
       "      <th></th>\n",
       "      <th>ID_hecho</th>\n",
       "      <th>FECHA</th>\n",
       "      <th>AAAA</th>\n",
       "      <th>MM</th>\n",
       "      <th>DD</th>\n",
       "      <th>ROL</th>\n",
       "      <th>VICTIMA</th>\n",
       "      <th>SEXO</th>\n",
       "      <th>EDAD</th>\n",
       "      <th>FECHA_FALLECIMIENTO</th>\n",
       "    </tr>\n",
       "  </thead>\n",
       "  <tbody>\n",
       "    <tr>\n",
       "      <th>0</th>\n",
       "      <td>2016-0001</td>\n",
       "      <td>1/1/2016</td>\n",
       "      <td>2016</td>\n",
       "      <td>1</td>\n",
       "      <td>1</td>\n",
       "      <td>CONDUCTOR</td>\n",
       "      <td>MOTO</td>\n",
       "      <td>MASCULINO</td>\n",
       "      <td>19</td>\n",
       "      <td>1/1/2016</td>\n",
       "    </tr>\n",
       "    <tr>\n",
       "      <th>1</th>\n",
       "      <td>2016-0002</td>\n",
       "      <td>1/2/2016</td>\n",
       "      <td>2016</td>\n",
       "      <td>1</td>\n",
       "      <td>2</td>\n",
       "      <td>CONDUCTOR</td>\n",
       "      <td>AUTO</td>\n",
       "      <td>MASCULINO</td>\n",
       "      <td>70</td>\n",
       "      <td>1/2/2016</td>\n",
       "    </tr>\n",
       "    <tr>\n",
       "      <th>2</th>\n",
       "      <td>2016-0003</td>\n",
       "      <td>1/3/2016</td>\n",
       "      <td>2016</td>\n",
       "      <td>1</td>\n",
       "      <td>3</td>\n",
       "      <td>CONDUCTOR</td>\n",
       "      <td>MOTO</td>\n",
       "      <td>MASCULINO</td>\n",
       "      <td>30</td>\n",
       "      <td>1/3/2016</td>\n",
       "    </tr>\n",
       "    <tr>\n",
       "      <th>3</th>\n",
       "      <td>2016-0004</td>\n",
       "      <td>1/10/2016</td>\n",
       "      <td>2016</td>\n",
       "      <td>1</td>\n",
       "      <td>10</td>\n",
       "      <td>CONDUCTOR</td>\n",
       "      <td>MOTO</td>\n",
       "      <td>MASCULINO</td>\n",
       "      <td>18</td>\n",
       "      <td>SD</td>\n",
       "    </tr>\n",
       "    <tr>\n",
       "      <th>4</th>\n",
       "      <td>2016-0005</td>\n",
       "      <td>1/21/2016</td>\n",
       "      <td>2016</td>\n",
       "      <td>1</td>\n",
       "      <td>21</td>\n",
       "      <td>CONDUCTOR</td>\n",
       "      <td>MOTO</td>\n",
       "      <td>MASCULINO</td>\n",
       "      <td>29</td>\n",
       "      <td>2/1/2016</td>\n",
       "    </tr>\n",
       "  </tbody>\n",
       "</table>\n",
       "</div>"
      ],
      "text/plain": [
       "    ID_hecho      FECHA  AAAA  MM  DD        ROL VICTIMA       SEXO EDAD  \\\n",
       "0  2016-0001   1/1/2016  2016   1   1  CONDUCTOR    MOTO  MASCULINO   19   \n",
       "1  2016-0002   1/2/2016  2016   1   2  CONDUCTOR    AUTO  MASCULINO   70   \n",
       "2  2016-0003   1/3/2016  2016   1   3  CONDUCTOR    MOTO  MASCULINO   30   \n",
       "3  2016-0004  1/10/2016  2016   1  10  CONDUCTOR    MOTO  MASCULINO   18   \n",
       "4  2016-0005  1/21/2016  2016   1  21  CONDUCTOR    MOTO  MASCULINO   29   \n",
       "\n",
       "  FECHA_FALLECIMIENTO  \n",
       "0            1/1/2016  \n",
       "1            1/2/2016  \n",
       "2            1/3/2016  \n",
       "3                  SD  \n",
       "4            2/1/2016  "
      ]
     },
     "execution_count": 142,
     "metadata": {},
     "output_type": "execute_result"
    }
   ],
   "source": [
    "df_victimas.head()"
   ]
  },
  {
   "cell_type": "markdown",
   "metadata": {},
   "source": [
    "Es posible identificar que el ID hecho coincide con el ID del dataset anterior."
   ]
  },
  {
   "cell_type": "markdown",
   "metadata": {},
   "source": [
    "### Proceso de toma de decisiones sobre las columnas a emplear."
   ]
  },
  {
   "cell_type": "markdown",
   "metadata": {},
   "source": [
    "Al visualizar los datos, identifico gran similitud con el dataset anterior, por lo que decido dejar sólo las columnas complementarias al primer dataset, es decir, se conservan las columnas 'rol', 'sexo', 'edad' y 'fecha fallecimiento'."
   ]
  },
  {
   "cell_type": "code",
   "execution_count": 143,
   "metadata": {},
   "outputs": [
    {
     "data": {
      "text/html": [
       "<div>\n",
       "<style scoped>\n",
       "    .dataframe tbody tr th:only-of-type {\n",
       "        vertical-align: middle;\n",
       "    }\n",
       "\n",
       "    .dataframe tbody tr th {\n",
       "        vertical-align: top;\n",
       "    }\n",
       "\n",
       "    .dataframe thead th {\n",
       "        text-align: right;\n",
       "    }\n",
       "</style>\n",
       "<table border=\"1\" class=\"dataframe\">\n",
       "  <thead>\n",
       "    <tr style=\"text-align: right;\">\n",
       "      <th></th>\n",
       "      <th>ID_hecho</th>\n",
       "      <th>FECHA</th>\n",
       "      <th>ROL</th>\n",
       "      <th>SEXO</th>\n",
       "      <th>EDAD</th>\n",
       "      <th>FECHA_FALLECIMIENTO</th>\n",
       "    </tr>\n",
       "  </thead>\n",
       "  <tbody>\n",
       "    <tr>\n",
       "      <th>0</th>\n",
       "      <td>2016-0001</td>\n",
       "      <td>1/1/2016</td>\n",
       "      <td>CONDUCTOR</td>\n",
       "      <td>MASCULINO</td>\n",
       "      <td>19</td>\n",
       "      <td>1/1/2016</td>\n",
       "    </tr>\n",
       "    <tr>\n",
       "      <th>1</th>\n",
       "      <td>2016-0002</td>\n",
       "      <td>1/2/2016</td>\n",
       "      <td>CONDUCTOR</td>\n",
       "      <td>MASCULINO</td>\n",
       "      <td>70</td>\n",
       "      <td>1/2/2016</td>\n",
       "    </tr>\n",
       "    <tr>\n",
       "      <th>2</th>\n",
       "      <td>2016-0003</td>\n",
       "      <td>1/3/2016</td>\n",
       "      <td>CONDUCTOR</td>\n",
       "      <td>MASCULINO</td>\n",
       "      <td>30</td>\n",
       "      <td>1/3/2016</td>\n",
       "    </tr>\n",
       "    <tr>\n",
       "      <th>3</th>\n",
       "      <td>2016-0004</td>\n",
       "      <td>1/10/2016</td>\n",
       "      <td>CONDUCTOR</td>\n",
       "      <td>MASCULINO</td>\n",
       "      <td>18</td>\n",
       "      <td>SD</td>\n",
       "    </tr>\n",
       "    <tr>\n",
       "      <th>4</th>\n",
       "      <td>2016-0005</td>\n",
       "      <td>1/21/2016</td>\n",
       "      <td>CONDUCTOR</td>\n",
       "      <td>MASCULINO</td>\n",
       "      <td>29</td>\n",
       "      <td>2/1/2016</td>\n",
       "    </tr>\n",
       "  </tbody>\n",
       "</table>\n",
       "</div>"
      ],
      "text/plain": [
       "    ID_hecho      FECHA        ROL       SEXO EDAD FECHA_FALLECIMIENTO\n",
       "0  2016-0001   1/1/2016  CONDUCTOR  MASCULINO   19            1/1/2016\n",
       "1  2016-0002   1/2/2016  CONDUCTOR  MASCULINO   70            1/2/2016\n",
       "2  2016-0003   1/3/2016  CONDUCTOR  MASCULINO   30            1/3/2016\n",
       "3  2016-0004  1/10/2016  CONDUCTOR  MASCULINO   18                  SD\n",
       "4  2016-0005  1/21/2016  CONDUCTOR  MASCULINO   29            2/1/2016"
      ]
     },
     "execution_count": 143,
     "metadata": {},
     "output_type": "execute_result"
    }
   ],
   "source": [
    "df_victimas=df_victimas[['ID_hecho','FECHA', 'ROL','SEXO', 'EDAD', 'FECHA_FALLECIMIENTO']]\n",
    "df_victimas.head()"
   ]
  },
  {
   "cell_type": "markdown",
   "metadata": {},
   "source": [
    "### Distribución de los datos."
   ]
  },
  {
   "cell_type": "markdown",
   "metadata": {},
   "source": [
    "Primero, observo la longitud del dataframe"
   ]
  },
  {
   "cell_type": "code",
   "execution_count": 144,
   "metadata": {},
   "outputs": [
    {
     "data": {
      "text/plain": [
       "717"
      ]
     },
     "execution_count": 144,
     "metadata": {},
     "output_type": "execute_result"
    }
   ],
   "source": [
    "len(df_victimas)"
   ]
  },
  {
   "cell_type": "markdown",
   "metadata": {},
   "source": [
    "Luego, veo la cantidad de valores nulos en el dataframe"
   ]
  },
  {
   "cell_type": "code",
   "execution_count": 145,
   "metadata": {},
   "outputs": [
    {
     "data": {
      "text/plain": [
       "ID_hecho               0\n",
       "FECHA                  0\n",
       "ROL                    0\n",
       "SEXO                   0\n",
       "EDAD                   0\n",
       "FECHA_FALLECIMIENTO    0\n",
       "dtype: int64"
      ]
     },
     "execution_count": 145,
     "metadata": {},
     "output_type": "execute_result"
    }
   ],
   "source": [
    "df_victimas.isna().sum()"
   ]
  },
  {
   "cell_type": "markdown",
   "metadata": {},
   "source": [
    "No existen valores nulos en el dataset."
   ]
  },
  {
   "cell_type": "markdown",
   "metadata": {},
   "source": [
    "Se verifica la información del dataset"
   ]
  },
  {
   "cell_type": "code",
   "execution_count": 146,
   "metadata": {},
   "outputs": [
    {
     "name": "stdout",
     "output_type": "stream",
     "text": [
      "<class 'pandas.core.frame.DataFrame'>\n",
      "RangeIndex: 717 entries, 0 to 716\n",
      "Data columns (total 6 columns):\n",
      " #   Column               Non-Null Count  Dtype \n",
      "---  ------               --------------  ----- \n",
      " 0   ID_hecho             717 non-null    object\n",
      " 1   FECHA                717 non-null    object\n",
      " 2   ROL                  717 non-null    object\n",
      " 3   SEXO                 717 non-null    object\n",
      " 4   EDAD                 717 non-null    object\n",
      " 5   FECHA_FALLECIMIENTO  717 non-null    object\n",
      "dtypes: object(6)\n",
      "memory usage: 33.7+ KB\n"
     ]
    }
   ],
   "source": [
    "df_victimas.info()"
   ]
  },
  {
   "cell_type": "markdown",
   "metadata": {},
   "source": [
    "Se verifican los valores duplicados en el dataset."
   ]
  },
  {
   "cell_type": "code",
   "execution_count": 147,
   "metadata": {},
   "outputs": [
    {
     "data": {
      "text/plain": [
       "np.int64(21)"
      ]
     },
     "execution_count": 147,
     "metadata": {},
     "output_type": "execute_result"
    }
   ],
   "source": [
    "df_victimas.duplicated(subset='ID_hecho').sum()"
   ]
  },
  {
   "cell_type": "markdown",
   "metadata": {},
   "source": [
    "Existen 21 'ID_hecho' duplicados. Esto obedece a los accidentes que tuvieron más de una víctima mortal."
   ]
  },
  {
   "cell_type": "markdown",
   "metadata": {},
   "source": [
    "Se identifican los tipos de datos y se hacen los casteos necesarios: ID: Object a int. Fecha: Object a datetime. Fecha_fallecimiento: Object a datetime."
   ]
  },
  {
   "cell_type": "code",
   "execution_count": 171,
   "metadata": {},
   "outputs": [
    {
     "name": "stdout",
     "output_type": "stream",
     "text": [
      "<class 'pandas.core.frame.DataFrame'>\n",
      "RangeIndex: 717 entries, 0 to 716\n",
      "Data columns (total 6 columns):\n",
      " #   Column               Non-Null Count  Dtype         \n",
      "---  ------               --------------  -----         \n",
      " 0   ID_hecho             717 non-null    int64         \n",
      " 1   FECHA                717 non-null    datetime64[ns]\n",
      " 2   ROL_VICTIMA          717 non-null    object        \n",
      " 3   SEXO_VICTIMA         717 non-null    object        \n",
      " 4   EDAD_VICTIMA         717 non-null    object        \n",
      " 5   FECHA_FALLECIMIENTO  648 non-null    datetime64[ns]\n",
      "dtypes: datetime64[ns](2), int64(1), object(3)\n",
      "memory usage: 33.7+ KB\n"
     ]
    }
   ],
   "source": [
    "df_victimas.info()"
   ]
  },
  {
   "cell_type": "code",
   "execution_count": 149,
   "metadata": {},
   "outputs": [],
   "source": [
    "df_victimas['ID_hecho'] = df_victimas['ID_hecho'].str.replace('-', '')"
   ]
  },
  {
   "cell_type": "code",
   "execution_count": 150,
   "metadata": {},
   "outputs": [],
   "source": [
    "df_victimas['ID_hecho'] = df_victimas['ID_hecho'].astype(int)"
   ]
  },
  {
   "cell_type": "code",
   "execution_count": 170,
   "metadata": {},
   "outputs": [],
   "source": [
    "df_victimas['FECHA'] = pd.to_datetime(df_victimas['FECHA'], errors='coerce')\n",
    "df_victimas['FECHA_FALLECIMIENTO'] = pd.to_datetime(df_victimas['FECHA_FALLECIMIENTO'], errors='coerce')"
   ]
  },
  {
   "cell_type": "markdown",
   "metadata": {},
   "source": [
    "Se modifican los nombres de las columnas para asegurar inteligibilidad."
   ]
  },
  {
   "cell_type": "code",
   "execution_count": 167,
   "metadata": {},
   "outputs": [],
   "source": [
    "df_victimas=df_victimas.rename(columns={'SEXO': 'SEXO_VICTIMA','EDAD':'EDAD_VICTIMA', 'ROL':'ROL_VICTIMA'})"
   ]
  },
  {
   "cell_type": "code",
   "execution_count": 168,
   "metadata": {},
   "outputs": [
    {
     "data": {
      "text/html": [
       "<div>\n",
       "<style scoped>\n",
       "    .dataframe tbody tr th:only-of-type {\n",
       "        vertical-align: middle;\n",
       "    }\n",
       "\n",
       "    .dataframe tbody tr th {\n",
       "        vertical-align: top;\n",
       "    }\n",
       "\n",
       "    .dataframe thead th {\n",
       "        text-align: right;\n",
       "    }\n",
       "</style>\n",
       "<table border=\"1\" class=\"dataframe\">\n",
       "  <thead>\n",
       "    <tr style=\"text-align: right;\">\n",
       "      <th></th>\n",
       "      <th>ID_hecho</th>\n",
       "      <th>FECHA</th>\n",
       "      <th>ROL_VICTIMA</th>\n",
       "      <th>SEXO_VICTIMA</th>\n",
       "      <th>EDAD_VICTIMA</th>\n",
       "      <th>FECHA_FALLECIMIENTO</th>\n",
       "    </tr>\n",
       "  </thead>\n",
       "  <tbody>\n",
       "    <tr>\n",
       "      <th>0</th>\n",
       "      <td>20160001</td>\n",
       "      <td>2016-01-01</td>\n",
       "      <td>CONDUCTOR</td>\n",
       "      <td>MASCULINO</td>\n",
       "      <td>19</td>\n",
       "      <td>1/1/2016</td>\n",
       "    </tr>\n",
       "    <tr>\n",
       "      <th>1</th>\n",
       "      <td>20160002</td>\n",
       "      <td>2016-01-02</td>\n",
       "      <td>CONDUCTOR</td>\n",
       "      <td>MASCULINO</td>\n",
       "      <td>70</td>\n",
       "      <td>1/2/2016</td>\n",
       "    </tr>\n",
       "    <tr>\n",
       "      <th>2</th>\n",
       "      <td>20160003</td>\n",
       "      <td>2016-01-03</td>\n",
       "      <td>CONDUCTOR</td>\n",
       "      <td>MASCULINO</td>\n",
       "      <td>30</td>\n",
       "      <td>1/3/2016</td>\n",
       "    </tr>\n",
       "    <tr>\n",
       "      <th>3</th>\n",
       "      <td>20160004</td>\n",
       "      <td>2016-01-10</td>\n",
       "      <td>CONDUCTOR</td>\n",
       "      <td>MASCULINO</td>\n",
       "      <td>18</td>\n",
       "      <td>SD</td>\n",
       "    </tr>\n",
       "    <tr>\n",
       "      <th>4</th>\n",
       "      <td>20160005</td>\n",
       "      <td>2016-01-21</td>\n",
       "      <td>CONDUCTOR</td>\n",
       "      <td>MASCULINO</td>\n",
       "      <td>29</td>\n",
       "      <td>2/1/2016</td>\n",
       "    </tr>\n",
       "  </tbody>\n",
       "</table>\n",
       "</div>"
      ],
      "text/plain": [
       "   ID_hecho      FECHA ROL_VICTIMA SEXO_VICTIMA EDAD_VICTIMA  \\\n",
       "0  20160001 2016-01-01   CONDUCTOR    MASCULINO           19   \n",
       "1  20160002 2016-01-02   CONDUCTOR    MASCULINO           70   \n",
       "2  20160003 2016-01-03   CONDUCTOR    MASCULINO           30   \n",
       "3  20160004 2016-01-10   CONDUCTOR    MASCULINO           18   \n",
       "4  20160005 2016-01-21   CONDUCTOR    MASCULINO           29   \n",
       "\n",
       "  FECHA_FALLECIMIENTO  \n",
       "0            1/1/2016  \n",
       "1            1/2/2016  \n",
       "2            1/3/2016  \n",
       "3                  SD  \n",
       "4            2/1/2016  "
      ]
     },
     "execution_count": 168,
     "metadata": {},
     "output_type": "execute_result"
    }
   ],
   "source": [
    "df_victimas.head()"
   ]
  },
  {
   "cell_type": "code",
   "execution_count": 173,
   "metadata": {},
   "outputs": [],
   "source": [
    "df_victimas.to_csv('victimaslimpio.csv')"
   ]
  },
  {
   "cell_type": "markdown",
   "metadata": {},
   "source": [
    "## Genero un dataset de lugares de ocurrencia de los accidentes"
   ]
  },
  {
   "cell_type": "code",
   "execution_count": 29,
   "metadata": {},
   "outputs": [
    {
     "data": {
      "text/html": [
       "<div>\n",
       "<style scoped>\n",
       "    .dataframe tbody tr th:only-of-type {\n",
       "        vertical-align: middle;\n",
       "    }\n",
       "\n",
       "    .dataframe tbody tr th {\n",
       "        vertical-align: top;\n",
       "    }\n",
       "\n",
       "    .dataframe thead th {\n",
       "        text-align: right;\n",
       "    }\n",
       "</style>\n",
       "<table border=\"1\" class=\"dataframe\">\n",
       "  <thead>\n",
       "    <tr style=\"text-align: right;\">\n",
       "      <th></th>\n",
       "      <th>ID</th>\n",
       "      <th>N_VICTIMAS</th>\n",
       "      <th>FECHA</th>\n",
       "      <th>AAAA</th>\n",
       "      <th>MM</th>\n",
       "      <th>DD</th>\n",
       "      <th>HORA</th>\n",
       "      <th>HH</th>\n",
       "      <th>LUGAR_DEL_HECHO</th>\n",
       "      <th>TIPO_DE_CALLE</th>\n",
       "      <th>...</th>\n",
       "      <th>Altura</th>\n",
       "      <th>Cruce</th>\n",
       "      <th>Dirección Normalizada</th>\n",
       "      <th>COMUNA</th>\n",
       "      <th>XY (CABA)</th>\n",
       "      <th>pos x</th>\n",
       "      <th>pos y</th>\n",
       "      <th>PARTICIPANTES</th>\n",
       "      <th>VICTIMA</th>\n",
       "      <th>ACUSADO</th>\n",
       "    </tr>\n",
       "  </thead>\n",
       "  <tbody>\n",
       "    <tr>\n",
       "      <th>0</th>\n",
       "      <td>2016-0001</td>\n",
       "      <td>1</td>\n",
       "      <td>1/1/2016</td>\n",
       "      <td>2016</td>\n",
       "      <td>1</td>\n",
       "      <td>1</td>\n",
       "      <td>4:00:00</td>\n",
       "      <td>4</td>\n",
       "      <td>AV PIEDRA BUENA Y AV FERNANDEZ DE LA CRUZ</td>\n",
       "      <td>AVENIDA</td>\n",
       "      <td>...</td>\n",
       "      <td>NaN</td>\n",
       "      <td>FERNANDEZ DE LA CRUZ, F., GRAL. AV.</td>\n",
       "      <td>PIEDRA BUENA AV. y FERNANDEZ DE LA CRUZ, F., G...</td>\n",
       "      <td>8</td>\n",
       "      <td>Point (98896.78238426 93532.43437792)</td>\n",
       "      <td>-58.47533969</td>\n",
       "      <td>-34.68757022</td>\n",
       "      <td>MOTO-AUTO</td>\n",
       "      <td>MOTO</td>\n",
       "      <td>AUTO</td>\n",
       "    </tr>\n",
       "    <tr>\n",
       "      <th>1</th>\n",
       "      <td>2016-0002</td>\n",
       "      <td>1</td>\n",
       "      <td>1/2/2016</td>\n",
       "      <td>2016</td>\n",
       "      <td>1</td>\n",
       "      <td>2</td>\n",
       "      <td>1:15:00</td>\n",
       "      <td>1</td>\n",
       "      <td>AV GRAL PAZ  Y AV DE LOS CORRALES</td>\n",
       "      <td>GRAL PAZ</td>\n",
       "      <td>...</td>\n",
       "      <td>NaN</td>\n",
       "      <td>DE LOS CORRALES AV.</td>\n",
       "      <td>PAZ, GRAL. AV. y DE LOS CORRALES AV.</td>\n",
       "      <td>9</td>\n",
       "      <td>Point (95832.05571093 95505.41641999)</td>\n",
       "      <td>-58.50877521</td>\n",
       "      <td>-34.66977709</td>\n",
       "      <td>AUTO-PASAJEROS</td>\n",
       "      <td>AUTO</td>\n",
       "      <td>PASAJEROS</td>\n",
       "    </tr>\n",
       "    <tr>\n",
       "      <th>2</th>\n",
       "      <td>2016-0003</td>\n",
       "      <td>1</td>\n",
       "      <td>1/3/2016</td>\n",
       "      <td>2016</td>\n",
       "      <td>1</td>\n",
       "      <td>3</td>\n",
       "      <td>7:00:00</td>\n",
       "      <td>7</td>\n",
       "      <td>AV ENTRE RIOS 2034</td>\n",
       "      <td>AVENIDA</td>\n",
       "      <td>...</td>\n",
       "      <td>2034.0</td>\n",
       "      <td>NaN</td>\n",
       "      <td>ENTRE RIOS AV. 2034</td>\n",
       "      <td>1</td>\n",
       "      <td>Point (106684.29090040 99706.57687843)</td>\n",
       "      <td>-58.39040293</td>\n",
       "      <td>-34.63189362</td>\n",
       "      <td>MOTO-AUTO</td>\n",
       "      <td>MOTO</td>\n",
       "      <td>AUTO</td>\n",
       "    </tr>\n",
       "    <tr>\n",
       "      <th>3</th>\n",
       "      <td>2016-0004</td>\n",
       "      <td>1</td>\n",
       "      <td>1/10/2016</td>\n",
       "      <td>2016</td>\n",
       "      <td>1</td>\n",
       "      <td>10</td>\n",
       "      <td>0:00:00</td>\n",
       "      <td>0</td>\n",
       "      <td>AV LARRAZABAL Y GRAL VILLEGAS CONRADO</td>\n",
       "      <td>AVENIDA</td>\n",
       "      <td>...</td>\n",
       "      <td>NaN</td>\n",
       "      <td>VILLEGAS, CONRADO, GRAL.</td>\n",
       "      <td>LARRAZABAL AV. y VILLEGAS, CONRADO, GRAL.</td>\n",
       "      <td>8</td>\n",
       "      <td>Point (99840.65224780 94269.16534422)</td>\n",
       "      <td>-58.46503904</td>\n",
       "      <td>-34.68092974</td>\n",
       "      <td>MOTO-SD</td>\n",
       "      <td>MOTO</td>\n",
       "      <td>SD</td>\n",
       "    </tr>\n",
       "    <tr>\n",
       "      <th>4</th>\n",
       "      <td>2016-0005</td>\n",
       "      <td>1</td>\n",
       "      <td>1/21/2016</td>\n",
       "      <td>2016</td>\n",
       "      <td>1</td>\n",
       "      <td>21</td>\n",
       "      <td>5:20:00</td>\n",
       "      <td>5</td>\n",
       "      <td>AV SAN JUAN Y PRESIDENTE LUIS SAENZ PEÑA</td>\n",
       "      <td>AVENIDA</td>\n",
       "      <td>...</td>\n",
       "      <td>NaN</td>\n",
       "      <td>SAENZ PE?A, LUIS, PRES.</td>\n",
       "      <td>SAN JUAN AV. y SAENZ PEÃ‘A, LUIS, PRES.</td>\n",
       "      <td>1</td>\n",
       "      <td>Point (106980.32827929 100752.16915795)</td>\n",
       "      <td>-58.38718297</td>\n",
       "      <td>-34.62246630</td>\n",
       "      <td>MOTO-PASAJEROS</td>\n",
       "      <td>MOTO</td>\n",
       "      <td>PASAJEROS</td>\n",
       "    </tr>\n",
       "  </tbody>\n",
       "</table>\n",
       "<p>5 rows × 21 columns</p>\n",
       "</div>"
      ],
      "text/plain": [
       "          ID  N_VICTIMAS      FECHA  AAAA  MM  DD     HORA HH  \\\n",
       "0  2016-0001           1   1/1/2016  2016   1   1  4:00:00  4   \n",
       "1  2016-0002           1   1/2/2016  2016   1   2  1:15:00  1   \n",
       "2  2016-0003           1   1/3/2016  2016   1   3  7:00:00  7   \n",
       "3  2016-0004           1  1/10/2016  2016   1  10  0:00:00  0   \n",
       "4  2016-0005           1  1/21/2016  2016   1  21  5:20:00  5   \n",
       "\n",
       "                             LUGAR_DEL_HECHO TIPO_DE_CALLE  ...  Altura  \\\n",
       "0  AV PIEDRA BUENA Y AV FERNANDEZ DE LA CRUZ       AVENIDA  ...     NaN   \n",
       "1          AV GRAL PAZ  Y AV DE LOS CORRALES      GRAL PAZ  ...     NaN   \n",
       "2                         AV ENTRE RIOS 2034       AVENIDA  ...  2034.0   \n",
       "3      AV LARRAZABAL Y GRAL VILLEGAS CONRADO       AVENIDA  ...     NaN   \n",
       "4  AV SAN JUAN Y PRESIDENTE LUIS SAENZ PEÑA        AVENIDA  ...     NaN   \n",
       "\n",
       "                                 Cruce  \\\n",
       "0  FERNANDEZ DE LA CRUZ, F., GRAL. AV.   \n",
       "1                  DE LOS CORRALES AV.   \n",
       "2                                  NaN   \n",
       "3             VILLEGAS, CONRADO, GRAL.   \n",
       "4              SAENZ PE?A, LUIS, PRES.   \n",
       "\n",
       "                               Dirección Normalizada COMUNA  \\\n",
       "0  PIEDRA BUENA AV. y FERNANDEZ DE LA CRUZ, F., G...      8   \n",
       "1               PAZ, GRAL. AV. y DE LOS CORRALES AV.      9   \n",
       "2                                ENTRE RIOS AV. 2034      1   \n",
       "3          LARRAZABAL AV. y VILLEGAS, CONRADO, GRAL.      8   \n",
       "4            SAN JUAN AV. y SAENZ PEÃ‘A, LUIS, PRES.      1   \n",
       "\n",
       "                                 XY (CABA)         pos x         pos y  \\\n",
       "0    Point (98896.78238426 93532.43437792)  -58.47533969  -34.68757022   \n",
       "1    Point (95832.05571093 95505.41641999)  -58.50877521  -34.66977709   \n",
       "2   Point (106684.29090040 99706.57687843)  -58.39040293  -34.63189362   \n",
       "3    Point (99840.65224780 94269.16534422)  -58.46503904  -34.68092974   \n",
       "4  Point (106980.32827929 100752.16915795)  -58.38718297  -34.62246630   \n",
       "\n",
       "    PARTICIPANTES VICTIMA    ACUSADO  \n",
       "0       MOTO-AUTO    MOTO       AUTO  \n",
       "1  AUTO-PASAJEROS    AUTO  PASAJEROS  \n",
       "2       MOTO-AUTO    MOTO       AUTO  \n",
       "3         MOTO-SD    MOTO         SD  \n",
       "4  MOTO-PASAJEROS    MOTO  PASAJEROS  \n",
       "\n",
       "[5 rows x 21 columns]"
      ]
     },
     "execution_count": 29,
     "metadata": {},
     "output_type": "execute_result"
    }
   ],
   "source": [
    "df_lugares=pd.read_csv(homicidios, delimiter=',', encoding='UTF-8')\n",
    "df_lugares.head()"
   ]
  },
  {
   "cell_type": "code",
   "execution_count": null,
   "metadata": {},
   "outputs": [],
   "source": [
    "df_lugares=df_lugares[['Dirección Normalizada', 'pos x', 'pos y']]\n",
    "df_lugares.head()"
   ]
  },
  {
   "cell_type": "code",
   "execution_count": 36,
   "metadata": {},
   "outputs": [],
   "source": [
    "df_lugares = df_lugares.rename(columns={\n",
    "    'Dirección Normalizada': 'Direccion',\n",
    "    'pos x': 'Longitud',\n",
    "    'pos y': 'Latitud'})"
   ]
  },
  {
   "cell_type": "code",
   "execution_count": 38,
   "metadata": {},
   "outputs": [
    {
     "data": {
      "text/html": [
       "<div>\n",
       "<style scoped>\n",
       "    .dataframe tbody tr th:only-of-type {\n",
       "        vertical-align: middle;\n",
       "    }\n",
       "\n",
       "    .dataframe tbody tr th {\n",
       "        vertical-align: top;\n",
       "    }\n",
       "\n",
       "    .dataframe thead th {\n",
       "        text-align: right;\n",
       "    }\n",
       "</style>\n",
       "<table border=\"1\" class=\"dataframe\">\n",
       "  <thead>\n",
       "    <tr style=\"text-align: right;\">\n",
       "      <th></th>\n",
       "      <th>Direccion</th>\n",
       "      <th>Latitud</th>\n",
       "      <th>Longitud</th>\n",
       "    </tr>\n",
       "  </thead>\n",
       "  <tbody>\n",
       "    <tr>\n",
       "      <th>0</th>\n",
       "      <td>PIEDRA BUENA AV. y FERNANDEZ DE LA CRUZ, F., G...</td>\n",
       "      <td>-58.47533969</td>\n",
       "      <td>-34.68757022</td>\n",
       "    </tr>\n",
       "    <tr>\n",
       "      <th>1</th>\n",
       "      <td>PAZ, GRAL. AV. y DE LOS CORRALES AV.</td>\n",
       "      <td>-58.50877521</td>\n",
       "      <td>-34.66977709</td>\n",
       "    </tr>\n",
       "    <tr>\n",
       "      <th>2</th>\n",
       "      <td>ENTRE RIOS AV. 2034</td>\n",
       "      <td>-58.39040293</td>\n",
       "      <td>-34.63189362</td>\n",
       "    </tr>\n",
       "    <tr>\n",
       "      <th>3</th>\n",
       "      <td>LARRAZABAL AV. y VILLEGAS, CONRADO, GRAL.</td>\n",
       "      <td>-58.46503904</td>\n",
       "      <td>-34.68092974</td>\n",
       "    </tr>\n",
       "    <tr>\n",
       "      <th>4</th>\n",
       "      <td>SAN JUAN AV. y SAENZ PEÃ‘A, LUIS, PRES.</td>\n",
       "      <td>-58.38718297</td>\n",
       "      <td>-34.62246630</td>\n",
       "    </tr>\n",
       "  </tbody>\n",
       "</table>\n",
       "</div>"
      ],
      "text/plain": [
       "                                           Direccion       Latitud  \\\n",
       "0  PIEDRA BUENA AV. y FERNANDEZ DE LA CRUZ, F., G...  -58.47533969   \n",
       "1               PAZ, GRAL. AV. y DE LOS CORRALES AV.  -58.50877521   \n",
       "2                                ENTRE RIOS AV. 2034  -58.39040293   \n",
       "3          LARRAZABAL AV. y VILLEGAS, CONRADO, GRAL.  -58.46503904   \n",
       "4            SAN JUAN AV. y SAENZ PEÃ‘A, LUIS, PRES.  -58.38718297   \n",
       "\n",
       "       Longitud  \n",
       "0  -34.68757022  \n",
       "1  -34.66977709  \n",
       "2  -34.63189362  \n",
       "3  -34.68092974  \n",
       "4  -34.62246630  "
      ]
     },
     "execution_count": 38,
     "metadata": {},
     "output_type": "execute_result"
    }
   ],
   "source": [
    "df_lugares.head()"
   ]
  },
  {
   "cell_type": "code",
   "execution_count": 31,
   "metadata": {},
   "outputs": [
    {
     "name": "stdout",
     "output_type": "stream",
     "text": [
      "                                             Direccion       Latitud  \\\n",
      "0    PIEDRA BUENA AV. y FERNANDEZ DE LA CRUZ, F., G...  -58.47533969   \n",
      "1                 PAZ, GRAL. AV. y DE LOS CORRALES AV.  -58.50877521   \n",
      "2                                  ENTRE RIOS AV. 2034  -58.39040293   \n",
      "3            LARRAZABAL AV. y VILLEGAS, CONRADO, GRAL.  -58.46503904   \n",
      "4              SAN JUAN AV. y SAENZ PEÃ‘A, LUIS, PRES.  -58.38718297   \n",
      "..                                                 ...           ...   \n",
      "691                                  RIESTRA AV. y MOM  -58.43353773   \n",
      "692         DELLEPIANE, LUIS, TTE. GRAL. y LACARRA AV.  -58.46739825   \n",
      "693                                GAONA AV. y TERRADA  -58.47293407   \n",
      "694                                PERON, EVA AV. 4071  -58.47066794   \n",
      "695                            PADRE CARLOS MUGICA 709  -58.37976155   \n",
      "\n",
      "         Longitud  \n",
      "0    -34.68757022  \n",
      "1    -34.66977709  \n",
      "2    -34.63189362  \n",
      "3    -34.68092974  \n",
      "4    -34.62246630  \n",
      "..            ...  \n",
      "691  -34.64561636  \n",
      "692  -34.65117757  \n",
      "693  -34.61984745  \n",
      "694  -34.65021673  \n",
      "695  -34.58679619  \n",
      "\n",
      "[696 rows x 3 columns]\n"
     ]
    }
   ],
   "source": [
    "df_lugares = df_lugares[['Dirección Normalizada', 'pos x', 'pos y']]\n",
    "df_lugares = df_lugares.rename(columns={\n",
    "    'Dirección Normalizada': 'Direccion',\n",
    "    'pos x': 'Latitud',\n",
    "    'pos y': 'Longitud'\n",
    "})\n",
    "print(df_lugares)"
   ]
  },
  {
   "cell_type": "code",
   "execution_count": 40,
   "metadata": {},
   "outputs": [
    {
     "data": {
      "text/html": [
       "<div>\n",
       "<style scoped>\n",
       "    .dataframe tbody tr th:only-of-type {\n",
       "        vertical-align: middle;\n",
       "    }\n",
       "\n",
       "    .dataframe tbody tr th {\n",
       "        vertical-align: top;\n",
       "    }\n",
       "\n",
       "    .dataframe thead th {\n",
       "        text-align: right;\n",
       "    }\n",
       "</style>\n",
       "<table border=\"1\" class=\"dataframe\">\n",
       "  <thead>\n",
       "    <tr style=\"text-align: right;\">\n",
       "      <th></th>\n",
       "      <th>Dirección</th>\n",
       "      <th>Longitud</th>\n",
       "      <th>Latitud</th>\n",
       "    </tr>\n",
       "  </thead>\n",
       "  <tbody>\n",
       "    <tr>\n",
       "      <th>0</th>\n",
       "      <td>PIEDRA BUENA AV. y FERNANDEZ DE LA CRUZ, F., G...</td>\n",
       "      <td>-58.47533969</td>\n",
       "      <td>-34.68757022</td>\n",
       "    </tr>\n",
       "    <tr>\n",
       "      <th>1</th>\n",
       "      <td>PAZ, GRAL. AV. y DE LOS CORRALES AV.</td>\n",
       "      <td>-58.50877521</td>\n",
       "      <td>-34.66977709</td>\n",
       "    </tr>\n",
       "    <tr>\n",
       "      <th>2</th>\n",
       "      <td>ENTRE RIOS AV. 2034</td>\n",
       "      <td>-58.39040293</td>\n",
       "      <td>-34.63189362</td>\n",
       "    </tr>\n",
       "    <tr>\n",
       "      <th>3</th>\n",
       "      <td>LARRAZABAL AV. y VILLEGAS, CONRADO, GRAL.</td>\n",
       "      <td>-58.46503904</td>\n",
       "      <td>-34.68092974</td>\n",
       "    </tr>\n",
       "    <tr>\n",
       "      <th>4</th>\n",
       "      <td>SAN JUAN AV. y SAENZ PEÃ‘A, LUIS, PRES.</td>\n",
       "      <td>-58.38718297</td>\n",
       "      <td>-34.62246630</td>\n",
       "    </tr>\n",
       "  </tbody>\n",
       "</table>\n",
       "</div>"
      ],
      "text/plain": [
       "                                           Dirección      Longitud  \\\n",
       "0  PIEDRA BUENA AV. y FERNANDEZ DE LA CRUZ, F., G...  -58.47533969   \n",
       "1               PAZ, GRAL. AV. y DE LOS CORRALES AV.  -58.50877521   \n",
       "2                                ENTRE RIOS AV. 2034  -58.39040293   \n",
       "3          LARRAZABAL AV. y VILLEGAS, CONRADO, GRAL.  -58.46503904   \n",
       "4            SAN JUAN AV. y SAENZ PEÃ‘A, LUIS, PRES.  -58.38718297   \n",
       "\n",
       "        Latitud  \n",
       "0  -34.68757022  \n",
       "1  -34.66977709  \n",
       "2  -34.63189362  \n",
       "3  -34.68092974  \n",
       "4  -34.62246630  "
      ]
     },
     "execution_count": 40,
     "metadata": {},
     "output_type": "execute_result"
    }
   ],
   "source": [
    "df_lugares.head()"
   ]
  },
  {
   "cell_type": "code",
   "execution_count": 39,
   "metadata": {},
   "outputs": [
    {
     "name": "stdout",
     "output_type": "stream",
     "text": [
      "                                             Dirección      Longitud  \\\n",
      "0    PIEDRA BUENA AV. y FERNANDEZ DE LA CRUZ, F., G...  -58.47533969   \n",
      "1                 PAZ, GRAL. AV. y DE LOS CORRALES AV.  -58.50877521   \n",
      "2                                  ENTRE RIOS AV. 2034  -58.39040293   \n",
      "3            LARRAZABAL AV. y VILLEGAS, CONRADO, GRAL.  -58.46503904   \n",
      "4              SAN JUAN AV. y SAENZ PEÃ‘A, LUIS, PRES.  -58.38718297   \n",
      "..                                                 ...           ...   \n",
      "691                                  RIESTRA AV. y MOM  -58.43353773   \n",
      "692         DELLEPIANE, LUIS, TTE. GRAL. y LACARRA AV.  -58.46739825   \n",
      "693                                GAONA AV. y TERRADA  -58.47293407   \n",
      "694                                PERON, EVA AV. 4071  -58.47066794   \n",
      "695                            PADRE CARLOS MUGICA 709  -58.37976155   \n",
      "\n",
      "          Latitud  \n",
      "0    -34.68757022  \n",
      "1    -34.66977709  \n",
      "2    -34.63189362  \n",
      "3    -34.68092974  \n",
      "4    -34.62246630  \n",
      "..            ...  \n",
      "691  -34.64561636  \n",
      "692  -34.65117757  \n",
      "693  -34.61984745  \n",
      "694  -34.65021673  \n",
      "695  -34.58679619  \n",
      "\n",
      "[688 rows x 3 columns]\n"
     ]
    }
   ],
   "source": [
    "df_lugares = df_lugares.rename(columns={\n",
    "    'Direccion': 'Dirección',\n",
    "    'Latitud': 'Longitud',\n",
    "    'Longitud': 'Latitud'\n",
    "})\n",
    "print(df_lugares)"
   ]
  },
  {
   "cell_type": "code",
   "execution_count": 41,
   "metadata": {},
   "outputs": [],
   "source": [
    "df_lugares.dropna(inplace=True)"
   ]
  },
  {
   "cell_type": "code",
   "execution_count": 42,
   "metadata": {},
   "outputs": [
    {
     "name": "stdout",
     "output_type": "stream",
     "text": [
      "<class 'pandas.core.frame.DataFrame'>\n",
      "Index: 688 entries, 0 to 695\n",
      "Data columns (total 3 columns):\n",
      " #   Column     Non-Null Count  Dtype \n",
      "---  ------     --------------  ----- \n",
      " 0   Dirección  688 non-null    object\n",
      " 1   Longitud   688 non-null    object\n",
      " 2   Latitud    688 non-null    object\n",
      "dtypes: object(3)\n",
      "memory usage: 21.5+ KB\n"
     ]
    }
   ],
   "source": [
    "df_lugares.info()"
   ]
  },
  {
   "cell_type": "code",
   "execution_count": 43,
   "metadata": {},
   "outputs": [],
   "source": [
    "df_lugares.to_csv('lugares.csv')"
   ]
  },
  {
   "cell_type": "markdown",
   "metadata": {},
   "source": [
    "Identifico el lugar de mayor accidentalidad y los 20 lugares con más ocurrencia de accidentes."
   ]
  },
  {
   "cell_type": "code",
   "execution_count": 17,
   "metadata": {},
   "outputs": [
    {
     "name": "stdout",
     "output_type": "stream",
     "text": [
      "27 DE FEBRERO AV. y ESCALADA AV.\n"
     ]
    }
   ],
   "source": [
    "moda = df_lugares['Direccion'].mode()[0]\n",
    "print(moda)"
   ]
  },
  {
   "cell_type": "code",
   "execution_count": 45,
   "metadata": {},
   "outputs": [
    {
     "name": "stdout",
     "output_type": "stream",
     "text": [
      "Dirección\n",
      "27 DE FEBRERO AV. y ESCALADA AV.                  5\n",
      "PAZ, GRAL. AV. y BALBIN, RICARDO, DR. AV.         4\n",
      "PAZ, GRAL. AV. y DEL LIBERTADOR AV.               4\n",
      "INDEPENDENCIA AV. y CEVALLOS, VIRREY              3\n",
      "ALCORTA, AMANCIO AV. y BONAVENA, OSCAR NATALIO    3\n",
      "                                                 ..\n",
      "AUTOPISTA PERITO MORENO y AUTOPISTA 25 DE MAYO    1\n",
      "CHORROARIN y SAN MARTIN AV.                       1\n",
      "COSQUIN y ROCA, CNEL. AV.                         1\n",
      "ROCA, CNEL. AV. 3555                              1\n",
      "PADRE CARLOS MUGICA 709                           1\n",
      "Name: count, Length: 635, dtype: int64\n"
     ]
    }
   ],
   "source": [
    "top_20= df_lugares['Dirección'].value_counts()\n",
    "print(top_20)"
   ]
  },
  {
   "cell_type": "code",
   "execution_count": 46,
   "metadata": {},
   "outputs": [
    {
     "data": {
      "text/plain": [
       "Dirección\n",
       "27 DE FEBRERO AV. y ESCALADA AV.                  5\n",
       "PAZ, GRAL. AV. y BALBIN, RICARDO, DR. AV.         4\n",
       "PAZ, GRAL. AV. y DEL LIBERTADOR AV.               4\n",
       "INDEPENDENCIA AV. y CEVALLOS, VIRREY              3\n",
       "ALCORTA, AMANCIO AV. y BONAVENA, OSCAR NATALIO    3\n",
       "Name: count, dtype: int64"
      ]
     },
     "execution_count": 46,
     "metadata": {},
     "output_type": "execute_result"
    }
   ],
   "source": [
    "top_20.head()"
   ]
  },
  {
   "cell_type": "code",
   "execution_count": 47,
   "metadata": {},
   "outputs": [],
   "source": [
    "df_lugares = df_lugares.merge(top_20, on='Dirección', how='left')"
   ]
  },
  {
   "cell_type": "code",
   "execution_count": null,
   "metadata": {},
   "outputs": [],
   "source": []
  },
  {
   "cell_type": "code",
   "execution_count": 48,
   "metadata": {},
   "outputs": [
    {
     "data": {
      "text/html": [
       "<div>\n",
       "<style scoped>\n",
       "    .dataframe tbody tr th:only-of-type {\n",
       "        vertical-align: middle;\n",
       "    }\n",
       "\n",
       "    .dataframe tbody tr th {\n",
       "        vertical-align: top;\n",
       "    }\n",
       "\n",
       "    .dataframe thead th {\n",
       "        text-align: right;\n",
       "    }\n",
       "</style>\n",
       "<table border=\"1\" class=\"dataframe\">\n",
       "  <thead>\n",
       "    <tr style=\"text-align: right;\">\n",
       "      <th></th>\n",
       "      <th>Dirección</th>\n",
       "      <th>Longitud</th>\n",
       "      <th>Latitud</th>\n",
       "      <th>count</th>\n",
       "    </tr>\n",
       "  </thead>\n",
       "  <tbody>\n",
       "    <tr>\n",
       "      <th>0</th>\n",
       "      <td>PIEDRA BUENA AV. y FERNANDEZ DE LA CRUZ, F., G...</td>\n",
       "      <td>-58.47533969</td>\n",
       "      <td>-34.68757022</td>\n",
       "      <td>1</td>\n",
       "    </tr>\n",
       "    <tr>\n",
       "      <th>1</th>\n",
       "      <td>PAZ, GRAL. AV. y DE LOS CORRALES AV.</td>\n",
       "      <td>-58.50877521</td>\n",
       "      <td>-34.66977709</td>\n",
       "      <td>3</td>\n",
       "    </tr>\n",
       "    <tr>\n",
       "      <th>2</th>\n",
       "      <td>ENTRE RIOS AV. 2034</td>\n",
       "      <td>-58.39040293</td>\n",
       "      <td>-34.63189362</td>\n",
       "      <td>1</td>\n",
       "    </tr>\n",
       "    <tr>\n",
       "      <th>3</th>\n",
       "      <td>LARRAZABAL AV. y VILLEGAS, CONRADO, GRAL.</td>\n",
       "      <td>-58.46503904</td>\n",
       "      <td>-34.68092974</td>\n",
       "      <td>1</td>\n",
       "    </tr>\n",
       "    <tr>\n",
       "      <th>4</th>\n",
       "      <td>SAN JUAN AV. y SAENZ PEÃ‘A, LUIS, PRES.</td>\n",
       "      <td>-58.38718297</td>\n",
       "      <td>-34.62246630</td>\n",
       "      <td>1</td>\n",
       "    </tr>\n",
       "  </tbody>\n",
       "</table>\n",
       "</div>"
      ],
      "text/plain": [
       "                                           Dirección      Longitud  \\\n",
       "0  PIEDRA BUENA AV. y FERNANDEZ DE LA CRUZ, F., G...  -58.47533969   \n",
       "1               PAZ, GRAL. AV. y DE LOS CORRALES AV.  -58.50877521   \n",
       "2                                ENTRE RIOS AV. 2034  -58.39040293   \n",
       "3          LARRAZABAL AV. y VILLEGAS, CONRADO, GRAL.  -58.46503904   \n",
       "4            SAN JUAN AV. y SAENZ PEÃ‘A, LUIS, PRES.  -58.38718297   \n",
       "\n",
       "        Latitud  count  \n",
       "0  -34.68757022      1  \n",
       "1  -34.66977709      3  \n",
       "2  -34.63189362      1  \n",
       "3  -34.68092974      1  \n",
       "4  -34.62246630      1  "
      ]
     },
     "execution_count": 48,
     "metadata": {},
     "output_type": "execute_result"
    }
   ],
   "source": [
    "df_lugares.head()"
   ]
  },
  {
   "cell_type": "code",
   "execution_count": 50,
   "metadata": {},
   "outputs": [
    {
     "name": "stdout",
     "output_type": "stream",
     "text": [
      "                                             Dirección      Longitud  \\\n",
      "0    PIEDRA BUENA AV. y FERNANDEZ DE LA CRUZ, F., G...  -58.47533969   \n",
      "1                 PAZ, GRAL. AV. y DE LOS CORRALES AV.  -58.50877521   \n",
      "2                                  ENTRE RIOS AV. 2034  -58.39040293   \n",
      "3            LARRAZABAL AV. y VILLEGAS, CONRADO, GRAL.  -58.46503904   \n",
      "4              SAN JUAN AV. y SAENZ PEÃ‘A, LUIS, PRES.  -58.38718297   \n",
      "..                                                 ...           ...   \n",
      "683                                  RIESTRA AV. y MOM  -58.43353773   \n",
      "684         DELLEPIANE, LUIS, TTE. GRAL. y LACARRA AV.  -58.46739825   \n",
      "685                                GAONA AV. y TERRADA  -58.47293407   \n",
      "686                                PERON, EVA AV. 4071  -58.47066794   \n",
      "687                            PADRE CARLOS MUGICA 709  -58.37976155   \n",
      "\n",
      "          Latitud  Cantidad de accidentes  \n",
      "0    -34.68757022                       1  \n",
      "1    -34.66977709                       3  \n",
      "2    -34.63189362                       1  \n",
      "3    -34.68092974                       1  \n",
      "4    -34.62246630                       1  \n",
      "..            ...                     ...  \n",
      "683  -34.64561636                       1  \n",
      "684  -34.65117757                       1  \n",
      "685  -34.61984745                       1  \n",
      "686  -34.65021673                       1  \n",
      "687  -34.58679619                       1  \n",
      "\n",
      "[688 rows x 4 columns]\n"
     ]
    }
   ],
   "source": [
    "df_lugares = df_lugares.rename(columns={\n",
    "    'count': 'Cantidad de accidentes'\n",
    "})\n",
    "print(df_lugares)"
   ]
  },
  {
   "cell_type": "code",
   "execution_count": 46,
   "metadata": {},
   "outputs": [
    {
     "ename": "NameError",
     "evalue": "name 'df_lugares' is not defined",
     "output_type": "error",
     "traceback": [
      "\u001b[1;31m---------------------------------------------------------------------------\u001b[0m",
      "\u001b[1;31mNameError\u001b[0m                                 Traceback (most recent call last)",
      "Cell \u001b[1;32mIn[46], line 1\u001b[0m\n\u001b[1;32m----> 1\u001b[0m \u001b[43mdf_lugares\u001b[49m\u001b[38;5;241m.\u001b[39mto_csv(\u001b[38;5;124m'\u001b[39m\u001b[38;5;124mlugares.csv\u001b[39m\u001b[38;5;124m'\u001b[39m)\n",
      "\u001b[1;31mNameError\u001b[0m: name 'df_lugares' is not defined"
     ]
    }
   ],
   "source": [
    "df_lugares.to_csv('lugares.csv')"
   ]
  },
  {
   "cell_type": "code",
   "execution_count": 47,
   "metadata": {},
   "outputs": [],
   "source": [
    "homicidios=pd.read_csv('homicidioslimpio.csv')"
   ]
  },
  {
   "cell_type": "code",
   "execution_count": 48,
   "metadata": {},
   "outputs": [
    {
     "data": {
      "text/html": [
       "<div>\n",
       "<style scoped>\n",
       "    .dataframe tbody tr th:only-of-type {\n",
       "        vertical-align: middle;\n",
       "    }\n",
       "\n",
       "    .dataframe tbody tr th {\n",
       "        vertical-align: top;\n",
       "    }\n",
       "\n",
       "    .dataframe thead th {\n",
       "        text-align: right;\n",
       "    }\n",
       "</style>\n",
       "<table border=\"1\" class=\"dataframe\">\n",
       "  <thead>\n",
       "    <tr style=\"text-align: right;\">\n",
       "      <th></th>\n",
       "      <th>Unnamed: 0</th>\n",
       "      <th>ID</th>\n",
       "      <th>N_VICTIMAS</th>\n",
       "      <th>FECHA</th>\n",
       "      <th>AAAA</th>\n",
       "      <th>MM</th>\n",
       "      <th>DD</th>\n",
       "      <th>HH</th>\n",
       "      <th>LUGAR_DEL_HECHO</th>\n",
       "      <th>TIPO_DE_CALLE</th>\n",
       "      <th>COMUNA</th>\n",
       "      <th>PARTICIPANTES</th>\n",
       "      <th>VICTIMA</th>\n",
       "      <th>ACUSADO</th>\n",
       "    </tr>\n",
       "  </thead>\n",
       "  <tbody>\n",
       "    <tr>\n",
       "      <th>0</th>\n",
       "      <td>0</td>\n",
       "      <td>20160001</td>\n",
       "      <td>1</td>\n",
       "      <td>2016-01-01</td>\n",
       "      <td>2016</td>\n",
       "      <td>1</td>\n",
       "      <td>1</td>\n",
       "      <td>4</td>\n",
       "      <td>AV PIEDRA BUENA Y AV FERNANDEZ DE LA CRUZ</td>\n",
       "      <td>AVENIDA</td>\n",
       "      <td>8</td>\n",
       "      <td>MOTO-AUTO</td>\n",
       "      <td>MOTO</td>\n",
       "      <td>AUTO</td>\n",
       "    </tr>\n",
       "    <tr>\n",
       "      <th>1</th>\n",
       "      <td>1</td>\n",
       "      <td>20160002</td>\n",
       "      <td>1</td>\n",
       "      <td>2016-01-02</td>\n",
       "      <td>2016</td>\n",
       "      <td>1</td>\n",
       "      <td>2</td>\n",
       "      <td>1</td>\n",
       "      <td>AV GRAL PAZ  Y AV DE LOS CORRALES</td>\n",
       "      <td>AVENIDA</td>\n",
       "      <td>9</td>\n",
       "      <td>AUTO-PASAJEROS</td>\n",
       "      <td>AUTO</td>\n",
       "      <td>PASAJEROS</td>\n",
       "    </tr>\n",
       "    <tr>\n",
       "      <th>2</th>\n",
       "      <td>2</td>\n",
       "      <td>20160003</td>\n",
       "      <td>1</td>\n",
       "      <td>2016-01-03</td>\n",
       "      <td>2016</td>\n",
       "      <td>1</td>\n",
       "      <td>3</td>\n",
       "      <td>7</td>\n",
       "      <td>AV ENTRE RIOS 2034</td>\n",
       "      <td>AVENIDA</td>\n",
       "      <td>1</td>\n",
       "      <td>MOTO-AUTO</td>\n",
       "      <td>MOTO</td>\n",
       "      <td>AUTO</td>\n",
       "    </tr>\n",
       "    <tr>\n",
       "      <th>3</th>\n",
       "      <td>3</td>\n",
       "      <td>20160004</td>\n",
       "      <td>1</td>\n",
       "      <td>2016-01-10</td>\n",
       "      <td>2016</td>\n",
       "      <td>1</td>\n",
       "      <td>10</td>\n",
       "      <td>0</td>\n",
       "      <td>AV LARRAZABAL Y GRAL VILLEGAS CONRADO</td>\n",
       "      <td>AVENIDA</td>\n",
       "      <td>8</td>\n",
       "      <td>MOTO-SD</td>\n",
       "      <td>MOTO</td>\n",
       "      <td>SD</td>\n",
       "    </tr>\n",
       "    <tr>\n",
       "      <th>4</th>\n",
       "      <td>4</td>\n",
       "      <td>20160005</td>\n",
       "      <td>1</td>\n",
       "      <td>2016-01-21</td>\n",
       "      <td>2016</td>\n",
       "      <td>1</td>\n",
       "      <td>21</td>\n",
       "      <td>5</td>\n",
       "      <td>AV SAN JUAN Y PRESIDENTE LUIS SAENZ PEÑA</td>\n",
       "      <td>AVENIDA</td>\n",
       "      <td>1</td>\n",
       "      <td>MOTO-PASAJEROS</td>\n",
       "      <td>MOTO</td>\n",
       "      <td>PASAJEROS</td>\n",
       "    </tr>\n",
       "  </tbody>\n",
       "</table>\n",
       "</div>"
      ],
      "text/plain": [
       "   Unnamed: 0        ID  N_VICTIMAS       FECHA  AAAA  MM  DD HH  \\\n",
       "0           0  20160001           1  2016-01-01  2016   1   1  4   \n",
       "1           1  20160002           1  2016-01-02  2016   1   2  1   \n",
       "2           2  20160003           1  2016-01-03  2016   1   3  7   \n",
       "3           3  20160004           1  2016-01-10  2016   1  10  0   \n",
       "4           4  20160005           1  2016-01-21  2016   1  21  5   \n",
       "\n",
       "                             LUGAR_DEL_HECHO TIPO_DE_CALLE  COMUNA  \\\n",
       "0  AV PIEDRA BUENA Y AV FERNANDEZ DE LA CRUZ       AVENIDA       8   \n",
       "1          AV GRAL PAZ  Y AV DE LOS CORRALES       AVENIDA       9   \n",
       "2                         AV ENTRE RIOS 2034       AVENIDA       1   \n",
       "3      AV LARRAZABAL Y GRAL VILLEGAS CONRADO       AVENIDA       8   \n",
       "4  AV SAN JUAN Y PRESIDENTE LUIS SAENZ PEÑA        AVENIDA       1   \n",
       "\n",
       "    PARTICIPANTES VICTIMA    ACUSADO  \n",
       "0       MOTO-AUTO    MOTO       AUTO  \n",
       "1  AUTO-PASAJEROS    AUTO  PASAJEROS  \n",
       "2       MOTO-AUTO    MOTO       AUTO  \n",
       "3         MOTO-SD    MOTO         SD  \n",
       "4  MOTO-PASAJEROS    MOTO  PASAJEROS  "
      ]
     },
     "execution_count": 48,
     "metadata": {},
     "output_type": "execute_result"
    }
   ],
   "source": [
    "homicidios.head()"
   ]
  },
  {
   "cell_type": "code",
   "execution_count": 49,
   "metadata": {},
   "outputs": [],
   "source": [
    "homicidios.drop('Unnamed: 0', axis=1, inplace=True)"
   ]
  },
  {
   "cell_type": "code",
   "execution_count": 9,
   "metadata": {},
   "outputs": [],
   "source": [
    "homicidios.to_csv('homicidioslimpio.csv')"
   ]
  },
  {
   "cell_type": "code",
   "execution_count": 50,
   "metadata": {},
   "outputs": [
    {
     "data": {
      "text/html": [
       "<div>\n",
       "<style scoped>\n",
       "    .dataframe tbody tr th:only-of-type {\n",
       "        vertical-align: middle;\n",
       "    }\n",
       "\n",
       "    .dataframe tbody tr th {\n",
       "        vertical-align: top;\n",
       "    }\n",
       "\n",
       "    .dataframe thead th {\n",
       "        text-align: right;\n",
       "    }\n",
       "</style>\n",
       "<table border=\"1\" class=\"dataframe\">\n",
       "  <thead>\n",
       "    <tr style=\"text-align: right;\">\n",
       "      <th></th>\n",
       "      <th>ID</th>\n",
       "      <th>N_VICTIMAS</th>\n",
       "      <th>FECHA</th>\n",
       "      <th>AAAA</th>\n",
       "      <th>MM</th>\n",
       "      <th>DD</th>\n",
       "      <th>HH</th>\n",
       "      <th>LUGAR_DEL_HECHO</th>\n",
       "      <th>TIPO_DE_CALLE</th>\n",
       "      <th>COMUNA</th>\n",
       "      <th>PARTICIPANTES</th>\n",
       "      <th>VICTIMA</th>\n",
       "      <th>ACUSADO</th>\n",
       "    </tr>\n",
       "  </thead>\n",
       "  <tbody>\n",
       "    <tr>\n",
       "      <th>0</th>\n",
       "      <td>20160001</td>\n",
       "      <td>1</td>\n",
       "      <td>2016-01-01</td>\n",
       "      <td>2016</td>\n",
       "      <td>1</td>\n",
       "      <td>1</td>\n",
       "      <td>4</td>\n",
       "      <td>AV PIEDRA BUENA Y AV FERNANDEZ DE LA CRUZ</td>\n",
       "      <td>AVENIDA</td>\n",
       "      <td>8</td>\n",
       "      <td>MOTO-AUTO</td>\n",
       "      <td>MOTO</td>\n",
       "      <td>AUTO</td>\n",
       "    </tr>\n",
       "  </tbody>\n",
       "</table>\n",
       "</div>"
      ],
      "text/plain": [
       "         ID  N_VICTIMAS       FECHA  AAAA  MM  DD HH  \\\n",
       "0  20160001           1  2016-01-01  2016   1   1  4   \n",
       "\n",
       "                             LUGAR_DEL_HECHO TIPO_DE_CALLE  COMUNA  \\\n",
       "0  AV PIEDRA BUENA Y AV FERNANDEZ DE LA CRUZ       AVENIDA       8   \n",
       "\n",
       "  PARTICIPANTES VICTIMA ACUSADO  \n",
       "0     MOTO-AUTO    MOTO    AUTO  "
      ]
     },
     "execution_count": 50,
     "metadata": {},
     "output_type": "execute_result"
    }
   ],
   "source": [
    "homicidios.head(1)"
   ]
  },
  {
   "cell_type": "code",
   "execution_count": 51,
   "metadata": {},
   "outputs": [
    {
     "data": {
      "text/plain": [
       "Index(['ID', 'N_VICTIMAS', 'FECHA', 'AAAA', 'MM', 'DD', 'HH',\n",
       "       'LUGAR_DEL_HECHO', 'TIPO_DE_CALLE', 'COMUNA', 'PARTICIPANTES',\n",
       "       'VICTIMA', 'ACUSADO'],\n",
       "      dtype='object')"
      ]
     },
     "execution_count": 51,
     "metadata": {},
     "output_type": "execute_result"
    }
   ],
   "source": [
    "homicidios.columns"
   ]
  },
  {
   "cell_type": "code",
   "execution_count": 10,
   "metadata": {},
   "outputs": [],
   "source": [
    "lugares=pd.read_csv('lugares.csv')"
   ]
  },
  {
   "cell_type": "code",
   "execution_count": 16,
   "metadata": {},
   "outputs": [],
   "source": [
    "lugares.drop(columns=['Unnamed: 0'], inplace=True)"
   ]
  },
  {
   "cell_type": "code",
   "execution_count": 17,
   "metadata": {},
   "outputs": [
    {
     "data": {
      "text/html": [
       "<div>\n",
       "<style scoped>\n",
       "    .dataframe tbody tr th:only-of-type {\n",
       "        vertical-align: middle;\n",
       "    }\n",
       "\n",
       "    .dataframe tbody tr th {\n",
       "        vertical-align: top;\n",
       "    }\n",
       "\n",
       "    .dataframe thead th {\n",
       "        text-align: right;\n",
       "    }\n",
       "</style>\n",
       "<table border=\"1\" class=\"dataframe\">\n",
       "  <thead>\n",
       "    <tr style=\"text-align: right;\">\n",
       "      <th></th>\n",
       "      <th>Dirección</th>\n",
       "      <th>Longitud</th>\n",
       "      <th>Latitud</th>\n",
       "      <th>Cantidad de accidentes</th>\n",
       "    </tr>\n",
       "  </thead>\n",
       "  <tbody>\n",
       "    <tr>\n",
       "      <th>0</th>\n",
       "      <td>PIEDRA BUENA AV. y FERNANDEZ DE LA CRUZ, F., G...</td>\n",
       "      <td>-58.47533969</td>\n",
       "      <td>-34.68757022</td>\n",
       "      <td>1</td>\n",
       "    </tr>\n",
       "  </tbody>\n",
       "</table>\n",
       "</div>"
      ],
      "text/plain": [
       "                                           Dirección      Longitud  \\\n",
       "0  PIEDRA BUENA AV. y FERNANDEZ DE LA CRUZ, F., G...  -58.47533969   \n",
       "\n",
       "        Latitud  Cantidad de accidentes  \n",
       "0  -34.68757022                       1  "
      ]
     },
     "execution_count": 17,
     "metadata": {},
     "output_type": "execute_result"
    }
   ],
   "source": [
    "lugares.head(1)"
   ]
  },
  {
   "cell_type": "code",
   "execution_count": 24,
   "metadata": {},
   "outputs": [
    {
     "data": {
      "text/plain": [
       "Index(['Dirección', 'Longitud', 'Latitud', 'Cantidad de accidentes'], dtype='object')"
      ]
     },
     "execution_count": 24,
     "metadata": {},
     "output_type": "execute_result"
    }
   ],
   "source": [
    "lugares.columns"
   ]
  },
  {
   "cell_type": "code",
   "execution_count": 11,
   "metadata": {},
   "outputs": [],
   "source": [
    "victimas=pd.read_csv('victimaslimpio.csv')"
   ]
  },
  {
   "cell_type": "code",
   "execution_count": 27,
   "metadata": {},
   "outputs": [],
   "source": [
    "victimas.drop(columns=['Unnamed: 0'], inplace=True)"
   ]
  },
  {
   "cell_type": "code",
   "execution_count": 28,
   "metadata": {},
   "outputs": [
    {
     "data": {
      "text/html": [
       "<div>\n",
       "<style scoped>\n",
       "    .dataframe tbody tr th:only-of-type {\n",
       "        vertical-align: middle;\n",
       "    }\n",
       "\n",
       "    .dataframe tbody tr th {\n",
       "        vertical-align: top;\n",
       "    }\n",
       "\n",
       "    .dataframe thead th {\n",
       "        text-align: right;\n",
       "    }\n",
       "</style>\n",
       "<table border=\"1\" class=\"dataframe\">\n",
       "  <thead>\n",
       "    <tr style=\"text-align: right;\">\n",
       "      <th></th>\n",
       "      <th>ID_hecho</th>\n",
       "      <th>FECHA</th>\n",
       "      <th>ROL_VICTIMA</th>\n",
       "      <th>SEXO_VICTIMA</th>\n",
       "      <th>EDAD_VICTIMA</th>\n",
       "      <th>FECHA_FALLECIMIENTO</th>\n",
       "    </tr>\n",
       "  </thead>\n",
       "  <tbody>\n",
       "    <tr>\n",
       "      <th>0</th>\n",
       "      <td>20160001</td>\n",
       "      <td>2016-01-01</td>\n",
       "      <td>CONDUCTOR</td>\n",
       "      <td>MASCULINO</td>\n",
       "      <td>19</td>\n",
       "      <td>2016-01-01</td>\n",
       "    </tr>\n",
       "  </tbody>\n",
       "</table>\n",
       "</div>"
      ],
      "text/plain": [
       "   ID_hecho       FECHA ROL_VICTIMA SEXO_VICTIMA EDAD_VICTIMA  \\\n",
       "0  20160001  2016-01-01   CONDUCTOR    MASCULINO           19   \n",
       "\n",
       "  FECHA_FALLECIMIENTO  \n",
       "0          2016-01-01  "
      ]
     },
     "execution_count": 28,
     "metadata": {},
     "output_type": "execute_result"
    }
   ],
   "source": [
    "victimas.head(1)"
   ]
  },
  {
   "cell_type": "code",
   "execution_count": 29,
   "metadata": {},
   "outputs": [
    {
     "data": {
      "text/plain": [
       "Index(['ID_hecho', 'FECHA', 'ROL_VICTIMA', 'SEXO_VICTIMA', 'EDAD_VICTIMA',\n",
       "       'FECHA_FALLECIMIENTO'],\n",
       "      dtype='object')"
      ]
     },
     "execution_count": 29,
     "metadata": {},
     "output_type": "execute_result"
    }
   ],
   "source": [
    "victimas.columns"
   ]
  },
  {
   "cell_type": "code",
   "execution_count": 52,
   "metadata": {},
   "outputs": [
    {
     "name": "stdout",
     "output_type": "stream",
     "text": [
      "Index(['ID', 'N_VICTIMAS', 'FECHA', 'AAAA', 'MM', 'DD', 'HH',\n",
      "       'LUGAR_DEL_HECHO', 'TIPO_DE_CALLE', 'COMUNA', 'PARTICIPANTES',\n",
      "       'VICTIMA', 'ACUSADO'],\n",
      "      dtype='object')\n",
      "Index(['ID', 'FECHA', 'ROL_VICTIMA', 'SEXO_VICTIMA', 'EDAD_VICTIMA',\n",
      "       'FECHA_FALLECIMIENTO'],\n",
      "      dtype='object')\n",
      "         ID  N_VICTIMAS     FECHA_x  AAAA  MM  DD HH  \\\n",
      "0  20160001           1  2016-01-01  2016   1   1  4   \n",
      "1  20160002           1  2016-01-02  2016   1   2  1   \n",
      "2  20160003           1  2016-01-03  2016   1   3  7   \n",
      "3  20160004           1  2016-01-10  2016   1  10  0   \n",
      "4  20160005           1  2016-01-21  2016   1  21  5   \n",
      "\n",
      "                             LUGAR_DEL_HECHO TIPO_DE_CALLE  COMUNA  \\\n",
      "0  AV PIEDRA BUENA Y AV FERNANDEZ DE LA CRUZ       AVENIDA       8   \n",
      "1          AV GRAL PAZ  Y AV DE LOS CORRALES       AVENIDA       9   \n",
      "2                         AV ENTRE RIOS 2034       AVENIDA       1   \n",
      "3      AV LARRAZABAL Y GRAL VILLEGAS CONRADO       AVENIDA       8   \n",
      "4  AV SAN JUAN Y PRESIDENTE LUIS SAENZ PEÑA        AVENIDA       1   \n",
      "\n",
      "    PARTICIPANTES VICTIMA    ACUSADO     FECHA_y ROL_VICTIMA SEXO_VICTIMA  \\\n",
      "0       MOTO-AUTO    MOTO       AUTO  2016-01-01   CONDUCTOR    MASCULINO   \n",
      "1  AUTO-PASAJEROS    AUTO  PASAJEROS  2016-01-02   CONDUCTOR    MASCULINO   \n",
      "2       MOTO-AUTO    MOTO       AUTO  2016-01-03   CONDUCTOR    MASCULINO   \n",
      "3         MOTO-SD    MOTO         SD  2016-01-10   CONDUCTOR    MASCULINO   \n",
      "4  MOTO-PASAJEROS    MOTO  PASAJEROS  2016-01-21   CONDUCTOR    MASCULINO   \n",
      "\n",
      "  EDAD_VICTIMA FECHA_FALLECIMIENTO  \n",
      "0           19          2016-01-01  \n",
      "1           70          2016-01-02  \n",
      "2           30          2016-01-03  \n",
      "3           18                 NaN  \n",
      "4           29          2016-02-01  \n"
     ]
    }
   ],
   "source": [
    "import pandas as pd\n",
    "\n",
    "# Assuming df_homicidios and df_victimas are already defined\n",
    "\n",
    "# Check column names\n",
    "print(homicidios.columns)\n",
    "print(victimas.columns)\n",
    "\n",
    "# Rename columns for clarity in merge (if necessary)\n",
    "victimas.rename(columns={'ID_hecho': 'ID'}, inplace=True)\n",
    "\n",
    "# Merge the datasets on 'ID'\n",
    "df_merged = pd.merge(homicidios, victimas, on='ID', how='left')\n",
    "\n",
    "print(df_merged.head())\n"
   ]
  },
  {
   "cell_type": "code",
   "execution_count": 57,
   "metadata": {},
   "outputs": [
    {
     "data": {
      "text/html": [
       "<div>\n",
       "<style scoped>\n",
       "    .dataframe tbody tr th:only-of-type {\n",
       "        vertical-align: middle;\n",
       "    }\n",
       "\n",
       "    .dataframe tbody tr th {\n",
       "        vertical-align: top;\n",
       "    }\n",
       "\n",
       "    .dataframe thead th {\n",
       "        text-align: right;\n",
       "    }\n",
       "</style>\n",
       "<table border=\"1\" class=\"dataframe\">\n",
       "  <thead>\n",
       "    <tr style=\"text-align: right;\">\n",
       "      <th></th>\n",
       "      <th>ID</th>\n",
       "      <th>N_VICTIMAS</th>\n",
       "      <th>FECHA_x</th>\n",
       "      <th>AAAA</th>\n",
       "      <th>MM</th>\n",
       "      <th>DD</th>\n",
       "      <th>HH</th>\n",
       "      <th>LUGAR_DEL_HECHO</th>\n",
       "      <th>TIPO_DE_CALLE</th>\n",
       "      <th>COMUNA</th>\n",
       "      <th>PARTICIPANTES</th>\n",
       "      <th>VICTIMA</th>\n",
       "      <th>ACUSADO</th>\n",
       "      <th>ROL_VICTIMA</th>\n",
       "      <th>SEXO_VICTIMA</th>\n",
       "      <th>EDAD_VICTIMA</th>\n",
       "      <th>FECHA_FALLECIMIENTO</th>\n",
       "      <th>Dia_de_la_semana</th>\n",
       "    </tr>\n",
       "  </thead>\n",
       "  <tbody>\n",
       "    <tr>\n",
       "      <th>0</th>\n",
       "      <td>20160001</td>\n",
       "      <td>1</td>\n",
       "      <td>2016-01-01</td>\n",
       "      <td>2016</td>\n",
       "      <td>1</td>\n",
       "      <td>1</td>\n",
       "      <td>4</td>\n",
       "      <td>AV PIEDRA BUENA Y AV FERNANDEZ DE LA CRUZ</td>\n",
       "      <td>AVENIDA</td>\n",
       "      <td>8</td>\n",
       "      <td>MOTO-AUTO</td>\n",
       "      <td>MOTO</td>\n",
       "      <td>AUTO</td>\n",
       "      <td>CONDUCTOR</td>\n",
       "      <td>MASCULINO</td>\n",
       "      <td>19</td>\n",
       "      <td>2016-01-01</td>\n",
       "      <td>Friday</td>\n",
       "    </tr>\n",
       "    <tr>\n",
       "      <th>1</th>\n",
       "      <td>20160002</td>\n",
       "      <td>1</td>\n",
       "      <td>2016-01-02</td>\n",
       "      <td>2016</td>\n",
       "      <td>1</td>\n",
       "      <td>2</td>\n",
       "      <td>1</td>\n",
       "      <td>AV GRAL PAZ  Y AV DE LOS CORRALES</td>\n",
       "      <td>AVENIDA</td>\n",
       "      <td>9</td>\n",
       "      <td>AUTO-PASAJEROS</td>\n",
       "      <td>AUTO</td>\n",
       "      <td>PASAJEROS</td>\n",
       "      <td>CONDUCTOR</td>\n",
       "      <td>MASCULINO</td>\n",
       "      <td>70</td>\n",
       "      <td>2016-01-02</td>\n",
       "      <td>Saturday</td>\n",
       "    </tr>\n",
       "    <tr>\n",
       "      <th>2</th>\n",
       "      <td>20160003</td>\n",
       "      <td>1</td>\n",
       "      <td>2016-01-03</td>\n",
       "      <td>2016</td>\n",
       "      <td>1</td>\n",
       "      <td>3</td>\n",
       "      <td>7</td>\n",
       "      <td>AV ENTRE RIOS 2034</td>\n",
       "      <td>AVENIDA</td>\n",
       "      <td>1</td>\n",
       "      <td>MOTO-AUTO</td>\n",
       "      <td>MOTO</td>\n",
       "      <td>AUTO</td>\n",
       "      <td>CONDUCTOR</td>\n",
       "      <td>MASCULINO</td>\n",
       "      <td>30</td>\n",
       "      <td>2016-01-03</td>\n",
       "      <td>Sunday</td>\n",
       "    </tr>\n",
       "    <tr>\n",
       "      <th>3</th>\n",
       "      <td>20160004</td>\n",
       "      <td>1</td>\n",
       "      <td>2016-01-10</td>\n",
       "      <td>2016</td>\n",
       "      <td>1</td>\n",
       "      <td>10</td>\n",
       "      <td>0</td>\n",
       "      <td>AV LARRAZABAL Y GRAL VILLEGAS CONRADO</td>\n",
       "      <td>AVENIDA</td>\n",
       "      <td>8</td>\n",
       "      <td>MOTO-SD</td>\n",
       "      <td>MOTO</td>\n",
       "      <td>SD</td>\n",
       "      <td>CONDUCTOR</td>\n",
       "      <td>MASCULINO</td>\n",
       "      <td>18</td>\n",
       "      <td>NaN</td>\n",
       "      <td>Sunday</td>\n",
       "    </tr>\n",
       "    <tr>\n",
       "      <th>4</th>\n",
       "      <td>20160005</td>\n",
       "      <td>1</td>\n",
       "      <td>2016-01-21</td>\n",
       "      <td>2016</td>\n",
       "      <td>1</td>\n",
       "      <td>21</td>\n",
       "      <td>5</td>\n",
       "      <td>AV SAN JUAN Y PRESIDENTE LUIS SAENZ PEÑA</td>\n",
       "      <td>AVENIDA</td>\n",
       "      <td>1</td>\n",
       "      <td>MOTO-PASAJEROS</td>\n",
       "      <td>MOTO</td>\n",
       "      <td>PASAJEROS</td>\n",
       "      <td>CONDUCTOR</td>\n",
       "      <td>MASCULINO</td>\n",
       "      <td>29</td>\n",
       "      <td>2016-02-01</td>\n",
       "      <td>Thursday</td>\n",
       "    </tr>\n",
       "  </tbody>\n",
       "</table>\n",
       "</div>"
      ],
      "text/plain": [
       "         ID  N_VICTIMAS    FECHA_x  AAAA  MM  DD HH  \\\n",
       "0  20160001           1 2016-01-01  2016   1   1  4   \n",
       "1  20160002           1 2016-01-02  2016   1   2  1   \n",
       "2  20160003           1 2016-01-03  2016   1   3  7   \n",
       "3  20160004           1 2016-01-10  2016   1  10  0   \n",
       "4  20160005           1 2016-01-21  2016   1  21  5   \n",
       "\n",
       "                             LUGAR_DEL_HECHO TIPO_DE_CALLE  COMUNA  \\\n",
       "0  AV PIEDRA BUENA Y AV FERNANDEZ DE LA CRUZ       AVENIDA       8   \n",
       "1          AV GRAL PAZ  Y AV DE LOS CORRALES       AVENIDA       9   \n",
       "2                         AV ENTRE RIOS 2034       AVENIDA       1   \n",
       "3      AV LARRAZABAL Y GRAL VILLEGAS CONRADO       AVENIDA       8   \n",
       "4  AV SAN JUAN Y PRESIDENTE LUIS SAENZ PEÑA        AVENIDA       1   \n",
       "\n",
       "    PARTICIPANTES VICTIMA    ACUSADO ROL_VICTIMA SEXO_VICTIMA EDAD_VICTIMA  \\\n",
       "0       MOTO-AUTO    MOTO       AUTO   CONDUCTOR    MASCULINO           19   \n",
       "1  AUTO-PASAJEROS    AUTO  PASAJEROS   CONDUCTOR    MASCULINO           70   \n",
       "2       MOTO-AUTO    MOTO       AUTO   CONDUCTOR    MASCULINO           30   \n",
       "3         MOTO-SD    MOTO         SD   CONDUCTOR    MASCULINO           18   \n",
       "4  MOTO-PASAJEROS    MOTO  PASAJEROS   CONDUCTOR    MASCULINO           29   \n",
       "\n",
       "  FECHA_FALLECIMIENTO Dia_de_la_semana  \n",
       "0          2016-01-01           Friday  \n",
       "1          2016-01-02         Saturday  \n",
       "2          2016-01-03           Sunday  \n",
       "3                 NaN           Sunday  \n",
       "4          2016-02-01         Thursday  "
      ]
     },
     "execution_count": 57,
     "metadata": {},
     "output_type": "execute_result"
    }
   ],
   "source": [
    "df_merged.head()"
   ]
  },
  {
   "cell_type": "code",
   "execution_count": 56,
   "metadata": {},
   "outputs": [],
   "source": [
    "df_merged.drop(columns=['FECHA_y'], inplace=True)"
   ]
  },
  {
   "cell_type": "code",
   "execution_count": 54,
   "metadata": {},
   "outputs": [
    {
     "name": "stdout",
     "output_type": "stream",
     "text": [
      "       FECHA_x Dia_de_la_semana\n",
      "0   2016-01-01           Friday\n",
      "1   2016-01-02         Saturday\n",
      "2   2016-01-03           Sunday\n",
      "3   2016-01-10           Sunday\n",
      "4   2016-01-21         Thursday\n",
      "..         ...              ...\n",
      "712 2021-12-13           Monday\n",
      "713 2021-12-20           Monday\n",
      "714 2021-12-30         Thursday\n",
      "715 2021-12-15        Wednesday\n",
      "716 2021-11-18         Thursday\n",
      "\n",
      "[717 rows x 2 columns]\n"
     ]
    }
   ],
   "source": [
    "import pandas as pd\n",
    "\n",
    "# Assuming df_merged is already defined\n",
    "\n",
    "# Convert 'FECHA_x' to datetime\n",
    "df_merged['FECHA_x'] = pd.to_datetime(df_merged['FECHA_x'], errors='coerce')\n",
    "\n",
    "# Extract the day of the week\n",
    "df_merged['Dia_de_la_semana'] = df_merged['FECHA_x'].dt.day_name()\n",
    "\n",
    "print(df_merged[['FECHA_x', 'Dia_de_la_semana']])\n"
   ]
  },
  {
   "cell_type": "code",
   "execution_count": 58,
   "metadata": {},
   "outputs": [],
   "source": [
    "df_merged.to_csv('basededatos.csv')"
   ]
  },
  {
   "cell_type": "code",
   "execution_count": null,
   "metadata": {},
   "outputs": [],
   "source": []
  }
 ],
 "metadata": {
  "kernelspec": {
   "display_name": "Python 3",
   "language": "python",
   "name": "python3"
  },
  "language_info": {
   "codemirror_mode": {
    "name": "ipython",
    "version": 3
   },
   "file_extension": ".py",
   "mimetype": "text/x-python",
   "name": "python",
   "nbconvert_exporter": "python",
   "pygments_lexer": "ipython3",
   "version": "3.12.4"
  }
 },
 "nbformat": 4,
 "nbformat_minor": 2
}
